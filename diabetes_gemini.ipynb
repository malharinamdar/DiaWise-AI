{
  "cells": [
    {
      "cell_type": "markdown",
      "metadata": {
        "id": "view-in-github",
        "colab_type": "text"
      },
      "source": [
        "<a href=\"https://colab.research.google.com/github/malharinamdar/TechRush-2024/blob/main/diabetes_gemini.ipynb\" target=\"_parent\"><img src=\"https://colab.research.google.com/assets/colab-badge.svg\" alt=\"Open In Colab\"/></a>"
      ]
    },
    {
      "cell_type": "code",
      "execution_count": 1,
      "metadata": {
        "colab": {
          "base_uri": "https://localhost:8080/"
        },
        "id": "2Rbu0ZVoeUQV",
        "outputId": "72c6ab3c-2d39-40cf-fdb8-c06a404c5db6"
      },
      "outputs": [
        {
          "output_type": "stream",
          "name": "stdout",
          "text": [
            "\u001b[2K     \u001b[90m━━━━━━━━━━━━━━━━━━━━━━━━━━━━━━━━━━━━━━━━\u001b[0m \u001b[32m164.2/164.2 kB\u001b[0m \u001b[31m1.3 MB/s\u001b[0m eta \u001b[36m0:00:00\u001b[0m\n",
            "\u001b[2K     \u001b[90m━━━━━━━━━━━━━━━━━━━━━━━━━━━━━━━━━━━━━━━━\u001b[0m \u001b[32m718.3/718.3 kB\u001b[0m \u001b[31m8.0 MB/s\u001b[0m eta \u001b[36m0:00:00\u001b[0m\n",
            "\u001b[?25h"
          ]
        }
      ],
      "source": [
        "!pip install -q -U google-generativeai"
      ]
    },
    {
      "cell_type": "code",
      "execution_count": 2,
      "metadata": {
        "id": "sVA71OsEeZTH"
      },
      "outputs": [],
      "source": [
        "import google.generativeai as genai"
      ]
    },
    {
      "cell_type": "code",
      "execution_count": 3,
      "metadata": {
        "id": "jaZ_iedIebOW"
      },
      "outputs": [],
      "source": [
        "genai.configure(api_key=\"api-key\")"
      ]
    },
    {
      "cell_type": "code",
      "execution_count": 4,
      "metadata": {
        "id": "R5-S505aed0R"
      },
      "outputs": [],
      "source": [
        "MODEL_CONFIG = {\n",
        "  \"temperature\": 0.2,\n",
        "  \"top_p\": 1,\n",
        "  \"top_k\": 32,\n",
        "  \"max_output_tokens\": 4096,\n",
        "}\n",
        "\n",
        "## Safety Settings of Model\n",
        "safety_settings = [\n",
        "  {\n",
        "    \"category\": \"HARM_CATEGORY_HARASSMENT\",\n",
        "    \"threshold\": \"BLOCK_MEDIUM_AND_ABOVE\"\n",
        "  },\n",
        "  {\n",
        "    \"category\": \"HARM_CATEGORY_HATE_SPEECH\",\n",
        "    \"threshold\": \"BLOCK_MEDIUM_AND_ABOVE\"\n",
        "  },\n",
        "  {\n",
        "    \"category\": \"HARM_CATEGORY_SEXUALLY_EXPLICIT\",\n",
        "    \"threshold\": \"BLOCK_MEDIUM_AND_ABOVE\"\n",
        "  },\n",
        "  {\n",
        "    \"category\": \"HARM_CATEGORY_DANGEROUS_CONTENT\",\n",
        "    \"threshold\": \"BLOCK_MEDIUM_AND_ABOVE\"\n",
        "  }\n",
        "]"
      ]
    },
    {
      "cell_type": "code",
      "execution_count": 5,
      "metadata": {
        "id": "G9D4ZL2Oei-F"
      },
      "outputs": [],
      "source": [
        "model = genai.GenerativeModel('gemini-1.5-flash')"
      ]
    },
    {
      "cell_type": "code",
      "execution_count": null,
      "metadata": {
        "id": "r597NUzeJwvr"
      },
      "outputs": [],
      "source": []
    },
    {
      "cell_type": "code",
      "execution_count": 6,
      "metadata": {
        "colab": {
          "base_uri": "https://localhost:8080/"
        },
        "id": "Xc7GDCCIXTXH",
        "outputId": "a17544b1-0e17-41dd-fb3e-d716c5edd40a"
      },
      "outputs": [
        {
          "output_type": "stream",
          "name": "stdout",
          "text": [
            "[0]\n"
          ]
        }
      ],
      "source": [
        "import pickle\n",
        "import pandas as pd\n",
        "\n",
        "\n",
        "\n",
        "update_model = pickle.load(open('/content/trained_model.pkl', 'rb'))  # Replace 'model.pkl' with your model file\n",
        "\n",
        "custom_data = [[\"Male\", 45.0, 0, 0, \"non-smoker\", 25.6, 6.5, 110]]\n",
        "\n",
        "custom_df = pd.DataFrame(custom_data, columns=['gender', 'age', 'hypertension', 'heart_disease', 'smoking_history', 'bmi', 'HbA1c_level', 'blood_glucose_level'])\n",
        "predictions = update_model.predict(custom_df)\n",
        "print(predictions)\n",
        "\n",
        "\n"
      ]
    },
    {
      "cell_type": "code",
      "execution_count": 7,
      "metadata": {
        "colab": {
          "base_uri": "https://localhost:8080/"
        },
        "id": "Ad_tGDwtJwvs",
        "outputId": "86975d31-7aab-4182-9dd4-afcc7ed22769"
      },
      "outputs": [
        {
          "output_type": "stream",
          "name": "stdout",
          "text": [
            "[0]\n"
          ]
        }
      ],
      "source": [
        "custom_data = [[\"Male\", 45.0, 0, 0, \"non-smoker\", 25.6, 6.5, 110]]\n",
        "\n",
        "custom_df = pd.DataFrame(custom_data, columns=['gender', 'age', 'hypertension', 'heart_disease', 'smoking_history', 'bmi', 'HbA1c_level', 'blood_glucose_level'])\n",
        "predictions = update_model.predict(custom_df)\n",
        "print(predictions)"
      ]
    },
    {
      "cell_type": "code",
      "execution_count": 8,
      "metadata": {
        "id": "JM4JsHOZZPFl"
      },
      "outputs": [],
      "source": [
        "prompt_context = f\"\"\"\n",
        "You are a helpful health advisor.\n",
        "A predictive model has been used to assess a patient's health risks.\n",
        "Here are the patient's details and the model's prediction:\n",
        "\n",
        "Patient Details:\n",
        "Gender: {custom_df['gender'][0]}\n",
        "Age: {custom_df['age'][0]}\n",
        "Hypertension: {'Yes' if custom_df['hypertension'][0] == 1 else 'No'}\n",
        "Heart Disease: {'Yes' if custom_df['heart_disease'][0] == 1 else 'No'}\n",
        "Smoking History: {custom_df['smoking_history'][0]}\n",
        "BMI: {custom_df['bmi'][0]}\n",
        "HbA1c Level: {custom_df['HbA1c_level'][0]}\n",
        "Blood Glucose Level: {custom_df['blood_glucose_level'][0]}\n",
        "\n",
        "Model Prediction:\n",
        "Risk of developing diabetes: {'High' if predictions[0] == 1 else 'Low'}\n",
        "\n",
        "Please provide personalized guidance to the patient.\n",
        "Focus on the specific parameters that might be contributing to their risk, and offer actionable advice for improvement.\n",
        "\"\"\"\n",
        "\n",
        "\n",
        "response = model.generate_content(prompt_context)\n"
      ]
    },
    {
      "cell_type": "code",
      "execution_count": 9,
      "metadata": {
        "colab": {
          "base_uri": "https://localhost:8080/",
          "height": 143
        },
        "id": "F68S14HDbTOI",
        "outputId": "ad06315a-b296-4b91-c57b-f217384b5015"
      },
      "outputs": [
        {
          "output_type": "execute_result",
          "data": {
            "text/plain": [
              "\"##  Personalized Guidance on Your Diabetes Risk\\n\\nHi there, based on your details and the model's prediction, you have a low risk of developing diabetes. That's great news! However, it's important to remember that this is a prediction and not a guarantee. \\n\\nHere's a closer look at your current health markers and what they mean:\\n\\n* **HbA1c Level:**  Your HbA1c level of 6.5 falls within the pre-diabetes range (5.7-6.4 is considered normal). This indicates that your blood sugar levels have been slightly elevated over the past few months.  While this is not a diagnosis of diabetes, it is important to be aware and take steps to manage your blood sugar.\\n* **Blood Glucose Level:** Your blood glucose level of 110 is also slightly elevated. A fasting blood glucose level between 70-99 is considered normal. \\n* **BMI:** Your BMI of 25.6 falls within the overweight category. While this is not directly related to diabetes, it can increase your risk. \\n\\n**Actionable Advice for Improvement:**\\n\\nWhile your risk is low, here are some proactive steps you can take to maintain your health and further lower your risk:\\n\\n* **Healthy Diet:** Focus on a balanced diet rich in fruits, vegetables, whole grains, and lean protein. Limit processed foods, sugary drinks, and saturated fats. \\n* **Regular Exercise:** Aim for at least 30 minutes of moderate-intensity exercise most days of the week. This can help improve blood sugar control and overall health.\\n* **Weight Management:** If you are overweight, even a small weight loss can significantly lower your risk of developing diabetes.\\n* **Regular Checkups:** Schedule regular checkups with your doctor to monitor your blood sugar levels and overall health. \\n* **Limit Alcohol Consumption:** Excessive alcohol intake can affect blood sugar control.\\n\\n**Important Considerations:**\\n\\n* **Family History:**  Do you have a family history of diabetes? This can increase your risk. Talk to your doctor about your family history and any concerns you may have.\\n* **Other Factors:**  Other factors that can contribute to diabetes risk include ethnicity, lack of sleep, and stress.\\n\\n**Remember:**  It's never too late to adopt healthier habits and take control of your health. By following these recommendations, you can significantly lower your risk of developing diabetes and improve your overall well-being. \\n\\nThis information is intended for general guidance and should not be considered medical advice. Please consult with your doctor for personalized recommendations tailored to your individual needs. \\n\""
            ],
            "application/vnd.google.colaboratory.intrinsic+json": {
              "type": "string"
            }
          },
          "metadata": {},
          "execution_count": 9
        }
      ],
      "source": [
        "response.text"
      ]
    },
    {
      "cell_type": "code",
      "execution_count": 10,
      "metadata": {
        "id": "6rtq9uttftaq"
      },
      "outputs": [],
      "source": [
        "## Output below"
      ]
    },
    {
      "cell_type": "markdown",
      "metadata": {
        "id": "I2GfTZoVfS_E"
      },
      "source": [
        "## Personalized Health Guidance\n",
        "\n",
        "Hi there, based on your details and the predictive model, your risk of developing diabetes is currently low. That's great news! However, it's important to understand that this is just a snapshot in time and your risk can change.  \n",
        "\n",
        "Let's look at your specific details:\n",
        "\n",
        "* **HbA1c Level (6.5):** This is slightly elevated and indicates that your average blood sugar levels have been higher than optimal in recent months. While this doesn't necessarily mean you have diabetes, it's a good indicator that you need to pay attention to your blood sugar control.\n",
        "* **Blood Glucose Level (110):** This level is also on the higher end of the normal range.\n",
        "* **BMI (25.6):** You're currently in the overweight category. Maintaining a healthy weight is crucial for overall health and managing blood sugar levels.\n",
        "\n",
        "**Here's what you can do to further reduce your risk of developing diabetes:**\n",
        "\n",
        "* **Monitor Your Blood Sugar:**  Talk to your doctor about getting regular blood sugar checks, especially if you have any family history of diabetes. This will help identify any potential issues early on.\n",
        "* **Maintain a Healthy Weight:**  Even a small amount of weight loss can significantly improve your blood sugar control. Aim for a gradual and sustainable weight loss program through healthy diet and regular exercise.\n",
        "* **Eat a Balanced Diet:** Focus on whole, unprocessed foods like fruits, vegetables, lean protein, and whole grains. Limit sugary drinks, processed foods, and saturated and trans fats.\n",
        "* **Get Regular Exercise:** Aim for at least 150 minutes of moderate-intensity aerobic activity or 75 minutes of vigorous-intensity aerobic activity per week.\n",
        "* **Manage Stress:** Stress can impact blood sugar levels.  Find healthy ways to manage stress like yoga, meditation, or spending time in nature.\n",
        "\n",
        "**Remember, maintaining a healthy lifestyle is key to preventing diabetes and maintaining overall well-being. It's important to discuss any concerns you have with your doctor and work together to develop a personalized plan that addresses your individual needs.**\n",
        "\n",
        "**Don't hesitate to ask your doctor about further testing or guidance if you have any concerns.**\n"
      ]
    },
    {
      "cell_type": "code",
      "execution_count": null,
      "metadata": {
        "id": "fFAhtrcsfHLs"
      },
      "outputs": [],
      "source": []
    }
  ],
  "metadata": {
    "colab": {
      "provenance": [],
      "include_colab_link": true
    },
    "kernelspec": {
      "display_name": "Python 3",
      "name": "python3"
    },
    "language_info": {
      "codemirror_mode": {
        "name": "ipython",
        "version": 3
      },
      "file_extension": ".py",
      "mimetype": "text/x-python",
      "name": "python",
      "nbconvert_exporter": "python",
      "pygments_lexer": "ipython3",
      "version": "3.12.2"
    }
  },
  "nbformat": 4,
  "nbformat_minor": 0
}
