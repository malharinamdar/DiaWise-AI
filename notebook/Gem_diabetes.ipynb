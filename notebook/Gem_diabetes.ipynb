{
  "cells": [
    {
      "cell_type": "markdown",
      "id": "d7de899a",
      "metadata": {
        "papermill": {
          "duration": 0.021683,
          "end_time": "2023-06-21T02:33:20.679814",
          "exception": false,
          "start_time": "2023-06-21T02:33:20.658131",
          "status": "completed"
        },
        "tags": [],
        "id": "d7de899a"
      },
      "source": [
        "Getting Started\n",
        "\n",
        "<br>\n",
        "\n",
        "The aim of this analysis is to investigate a range of health-related factors and their interconnections **to classify diabetes accurately**. These factors include aspects such as **`age`**, **`gender`**, **`body mass index (BMI)`**, **`hypertension`**, **`heart disease`**, **`smoking history`**, **`HbA1c level`**, and **`blood glucose level`**. This comprehensive examination will not only provide insights into the patterns and trends in diabetes risk but will also create a solid base for further research. Specifically, research can be built on how these variables interact and influence diabetes occurrence and progression, crucial knowledge for improving patient care and outcomes in this increasingly critical area of healthcare.\n",
        "\n",
        "\n",
        "### Domain Knowledge\n",
        "\n",
        "\n",
        "\n",
        "1. **`Age`:** Age is an important factor in predicting diabetes risk. As individuals get older, their risk of developing diabetes increases. This is partly due to factors such as reduced physical activity, changes in hormone levels, and a higher likelihood of developing other health conditions that can contribute to diabetes.\n",
        "\n",
        "2. **`Gender`**: Gender can play a role in diabetes risk, although the effect may vary. For example, women with a history of gestational diabetes (diabetes during pregnancy) have a higher risk of developing type 2 diabetes later in life. Additionally, some studies have suggested that men may have a slightly higher risk of diabetes compared to women.\n",
        "\n",
        "3. **`Body Mass Index (BMI)`:** BMI is a measure of body fat based on a person's height and weight. It is commonly used as an indicator of overall weight status and can be helpful in predicting diabetes risk. Higher BMI is associated with a greater likelihood of developing type 2 diabetes. Excess body fat, particularly around the waist, can lead to insulin resistance and impair the body's ability to regulate blood sugar levels.\n",
        "\n",
        "4. **`Hypertension`:** Hypertension, or high blood pressure, is a condition that often coexists with diabetes. The two conditions share common risk factors and can contribute to each other's development. Having hypertension increases the risk of developing type 2 diabetes and vice versa. Both conditions can have detrimental effects on cardiovascular health.\n",
        "\n",
        "5. **`Heart Disease`:** Heart disease, including conditions such as coronary artery disease and heart failure, is associated with an increased risk of diabetes. The relationship between heart disease and diabetes is bidirectional, meaning that having one condition increases the risk of developing the other. This is because they share many common risk factors, such as obesity, high blood pressure, and high cholesterol.\n",
        "\n",
        "6. **`Smoking History`:** Smoking is a modifiable risk factor for diabetes. Cigarette smoking has been found to increase the risk of developing type 2 diabetes. Smoking can contribute to insulin resistance and impair glucose metabolism. Quitting smoking can significantly reduce the risk of developing diabetes and its complications.\n",
        "\n",
        "7. **`HbA1c Level`:** HbA1c (glycated hemoglobin) is a measure of the average blood glucose level over the past 2-3 months. It provides information about long-term blood sugar control. Higher HbA1c levels indicate poorer glycemic control and are associated with an increased risk of developing diabetes and its complications.\n",
        "\n",
        "8. **`Blood Glucose Level`:** Blood glucose level refers to the amount of glucose (sugar) present in the blood at a given time. Elevated blood glucose levels, particularly in the fasting state or after consuming carbohydrates, can indicate impaired glucose regulation and increase the risk of developing diabetes. Regular monitoring of blood glucose levels is important in the diagnosis and management of diabetes.\n",
        "\n",
        "<br>\n",
        "\n",
        "✔️ **These features, when combined and analyzed with appropriate statistical and machine learning techniques, can help in predicting an individual's risk of developing diabetes.**\n",
        "\n",
        "# <span style=\"color:#E888BB; font-size: 1%;\">INTRODUCTION</span>\n",
        "INTRODUCTION\n",
        "\n",
        "<br>\n",
        "\n",
        "### Preface\n",
        "\n",
        "In this analysis, we have chosen the RandomForest classifier as our model. The RandomForest algorithm is an ensemble learning method that operates by constructing a multitude of decision trees during training and outputting the class that is the mode of the classes for classification or mean prediction of the individual trees for regression.\n",
        "\n",
        "Several reasons guided our choice of **<span style='color:#16C2D5'>Random Forest</span>** for this task:\n",
        "\n",
        "1. **Handling of Large Data:** **<span style='color:#16C2D5'>Random Forest</span>** is capable of efficiently handling large datasets with high dimensionality. Our dataset, containing a substantial number of rows and several features, falls into this category.\n",
        "\n",
        "2. **Robustness to Overfitting:** **<span style='color:#16C2D5'>Random Forest</span>** reduces the risk of overfitting, which is a common problem with decision trees. The algorithm accomplishes this by creating a set of **<mark style=\"background-color:#DDE6ED;color:black;border-radius:4px;opacity:1.0\">decision trees</mark>** (a \"forest\") and making the final prediction based on the majority vote of the individual trees.\n",
        "\n",
        "3. **Handling Mixed Data Types:** In our dataset, we have both numerical and categorical features. **<span style='color:#16C2D5'>Random Forest</span>** handles such mixtures smoothly, which makes it an ideal choice.\n",
        "\n",
        "4. **Feature Importance:** **<span style='color:#16C2D5'>Random Forest</span>** provides a straightforward way to estimate feature importance. Given our aim to investigate the impact of different factors on diabetes, this characteristic is particularly useful.\n",
        "\n",
        "5. **Non-linearity:** Medical data often contains complex and non-linear relationships. **<span style='color:#16C2D5'>Random Forest</span>**, being a non-linear model, can capture these relationships effectively.\n",
        "\n",
        "<br>\n",
        "\n",
        "> ⚠️ It's worth noting that while **<span style='color:#16C2D5'>Random Forest</span>** is a strong candidate given its mentioned advantages, the choice of model should always be considered with a grain of salt. Other models might perform better on the task, and it's generally a good practice to try several models and compare their performance. However, for the purpose of this analysis and given our dataset, **<span style='color:#16C2D5'>Random Forest</span>** **is a practical and reasonable starting point**.\n",
        "\n",
        "<br>\n",
        "\n",
        "### <b>II <span style='color:#16C2D5'>|</span> Import libraries</b>"
      ]
    },
    {
      "cell_type": "code",
      "execution_count": 9,
      "id": "a3b735cd",
      "metadata": {
        "_cell_guid": "b1076dfc-b9ad-4769-8c92-a6c4dae69d19",
        "_uuid": "8f2839f25d086af736a60e9eeb907d3b93b6e0e5",
        "execution": {
          "iopub.execute_input": "2023-06-21T02:33:20.720322Z",
          "iopub.status.busy": "2023-06-21T02:33:20.719940Z",
          "iopub.status.idle": "2023-06-21T02:33:23.252383Z",
          "shell.execute_reply": "2023-06-21T02:33:23.251140Z"
        },
        "papermill": {
          "duration": 2.556216,
          "end_time": "2023-06-21T02:33:23.255223",
          "exception": false,
          "start_time": "2023-06-21T02:33:20.699007",
          "status": "completed"
        },
        "tags": [],
        "id": "a3b735cd"
      },
      "outputs": [],
      "source": [
        "import warnings\n",
        "warnings.filterwarnings('ignore')\n",
        "\n",
        "# Import Neccessary libraries\n",
        "import numpy as np\n",
        "import pandas as pd\n",
        "\n",
        "# Import Visualization libraries\n",
        "import matplotlib.pyplot as plt\n",
        "import seaborn as sns\n",
        "\n",
        "#Import Model\n",
        "from sklearn.model_selection import train_test_split, GridSearchCV\n",
        "from sklearn.preprocessing import StandardScaler, OneHotEncoder\n",
        "from sklearn.compose import ColumnTransformer\n",
        "from sklearn.ensemble import RandomForestClassifier\n",
        "from sklearn.metrics import accuracy_score, classification_report, confusion_matrix\n",
        "from sklearn.pipeline import Pipeline\n",
        "\n",
        "#Import Sampler libraries\n",
        "from imblearn.over_sampling import SMOTE\n",
        "from imblearn.under_sampling import RandomUnderSampler\n",
        "from imblearn.pipeline import Pipeline as imbPipeline\n",
        "\n",
        "# Set the decimal format\n",
        "pd.options.display.float_format = \"{:.2f}\".format"
      ]
    },
    {
      "cell_type": "markdown",
      "id": "769b1fd8",
      "metadata": {
        "papermill": {
          "duration": 0.019836,
          "end_time": "2023-06-21T02:33:23.293889",
          "exception": false,
          "start_time": "2023-06-21T02:33:23.274053",
          "status": "completed"
        },
        "tags": [],
        "id": "769b1fd8"
      },
      "source": [
        "### <b>III <span style='color:#16C2D5'>|</span> Input the data</b>"
      ]
    },
    {
      "cell_type": "code",
      "execution_count": 10,
      "id": "0abefc2b",
      "metadata": {
        "execution": {
          "iopub.execute_input": "2023-06-21T02:33:23.334916Z",
          "iopub.status.busy": "2023-06-21T02:33:23.333684Z",
          "iopub.status.idle": "2023-06-21T02:33:23.549590Z",
          "shell.execute_reply": "2023-06-21T02:33:23.548345Z"
        },
        "papermill": {
          "duration": 0.239118,
          "end_time": "2023-06-21T02:33:23.552371",
          "exception": false,
          "start_time": "2023-06-21T02:33:23.313253",
          "status": "completed"
        },
        "tags": [],
        "id": "0abefc2b"
      },
      "outputs": [],
      "source": [
        "df = pd.read_csv(\"/content/diabetes_prediction_dataset.csv\")"
      ]
    },
    {
      "cell_type": "code",
      "execution_count": 11,
      "id": "c8b90a57",
      "metadata": {
        "execution": {
          "iopub.execute_input": "2023-06-21T02:33:23.592843Z",
          "iopub.status.busy": "2023-06-21T02:33:23.592151Z",
          "iopub.status.idle": "2023-06-21T02:33:23.628499Z",
          "shell.execute_reply": "2023-06-21T02:33:23.627152Z"
        },
        "papermill": {
          "duration": 0.059834,
          "end_time": "2023-06-21T02:33:23.631129",
          "exception": false,
          "start_time": "2023-06-21T02:33:23.571295",
          "status": "completed"
        },
        "tags": [],
        "colab": {
          "base_uri": "https://localhost:8080/",
          "height": 206
        },
        "id": "c8b90a57",
        "outputId": "eeb3280a-0804-41a0-a1ea-bdae3d1789de"
      },
      "outputs": [
        {
          "output_type": "execute_result",
          "data": {
            "text/plain": [
              "   gender   age  hypertension  heart_disease smoking_history   bmi  \\\n",
              "0  Female 80.00             0              1           never 25.19   \n",
              "1  Female 54.00             0              0         No Info 27.32   \n",
              "2    Male 28.00             0              0           never 27.32   \n",
              "3  Female 36.00             0              0         current 23.45   \n",
              "4    Male 76.00             1              1         current 20.14   \n",
              "\n",
              "   HbA1c_level  blood_glucose_level  diabetes  \n",
              "0         6.60                  140         0  \n",
              "1         6.60                   80         0  \n",
              "2         5.70                  158         0  \n",
              "3         5.00                  155         0  \n",
              "4         4.80                  155         0  "
            ],
            "text/html": [
              "\n",
              "  <div id=\"df-0065d46e-7c38-4d7a-b7a0-4abab1e07d0a\" class=\"colab-df-container\">\n",
              "    <div>\n",
              "<style scoped>\n",
              "    .dataframe tbody tr th:only-of-type {\n",
              "        vertical-align: middle;\n",
              "    }\n",
              "\n",
              "    .dataframe tbody tr th {\n",
              "        vertical-align: top;\n",
              "    }\n",
              "\n",
              "    .dataframe thead th {\n",
              "        text-align: right;\n",
              "    }\n",
              "</style>\n",
              "<table border=\"1\" class=\"dataframe\">\n",
              "  <thead>\n",
              "    <tr style=\"text-align: right;\">\n",
              "      <th></th>\n",
              "      <th>gender</th>\n",
              "      <th>age</th>\n",
              "      <th>hypertension</th>\n",
              "      <th>heart_disease</th>\n",
              "      <th>smoking_history</th>\n",
              "      <th>bmi</th>\n",
              "      <th>HbA1c_level</th>\n",
              "      <th>blood_glucose_level</th>\n",
              "      <th>diabetes</th>\n",
              "    </tr>\n",
              "  </thead>\n",
              "  <tbody>\n",
              "    <tr>\n",
              "      <th>0</th>\n",
              "      <td>Female</td>\n",
              "      <td>80.00</td>\n",
              "      <td>0</td>\n",
              "      <td>1</td>\n",
              "      <td>never</td>\n",
              "      <td>25.19</td>\n",
              "      <td>6.60</td>\n",
              "      <td>140</td>\n",
              "      <td>0</td>\n",
              "    </tr>\n",
              "    <tr>\n",
              "      <th>1</th>\n",
              "      <td>Female</td>\n",
              "      <td>54.00</td>\n",
              "      <td>0</td>\n",
              "      <td>0</td>\n",
              "      <td>No Info</td>\n",
              "      <td>27.32</td>\n",
              "      <td>6.60</td>\n",
              "      <td>80</td>\n",
              "      <td>0</td>\n",
              "    </tr>\n",
              "    <tr>\n",
              "      <th>2</th>\n",
              "      <td>Male</td>\n",
              "      <td>28.00</td>\n",
              "      <td>0</td>\n",
              "      <td>0</td>\n",
              "      <td>never</td>\n",
              "      <td>27.32</td>\n",
              "      <td>5.70</td>\n",
              "      <td>158</td>\n",
              "      <td>0</td>\n",
              "    </tr>\n",
              "    <tr>\n",
              "      <th>3</th>\n",
              "      <td>Female</td>\n",
              "      <td>36.00</td>\n",
              "      <td>0</td>\n",
              "      <td>0</td>\n",
              "      <td>current</td>\n",
              "      <td>23.45</td>\n",
              "      <td>5.00</td>\n",
              "      <td>155</td>\n",
              "      <td>0</td>\n",
              "    </tr>\n",
              "    <tr>\n",
              "      <th>4</th>\n",
              "      <td>Male</td>\n",
              "      <td>76.00</td>\n",
              "      <td>1</td>\n",
              "      <td>1</td>\n",
              "      <td>current</td>\n",
              "      <td>20.14</td>\n",
              "      <td>4.80</td>\n",
              "      <td>155</td>\n",
              "      <td>0</td>\n",
              "    </tr>\n",
              "  </tbody>\n",
              "</table>\n",
              "</div>\n",
              "    <div class=\"colab-df-buttons\">\n",
              "\n",
              "  <div class=\"colab-df-container\">\n",
              "    <button class=\"colab-df-convert\" onclick=\"convertToInteractive('df-0065d46e-7c38-4d7a-b7a0-4abab1e07d0a')\"\n",
              "            title=\"Convert this dataframe to an interactive table.\"\n",
              "            style=\"display:none;\">\n",
              "\n",
              "  <svg xmlns=\"http://www.w3.org/2000/svg\" height=\"24px\" viewBox=\"0 -960 960 960\">\n",
              "    <path d=\"M120-120v-720h720v720H120Zm60-500h600v-160H180v160Zm220 220h160v-160H400v160Zm0 220h160v-160H400v160ZM180-400h160v-160H180v160Zm440 0h160v-160H620v160ZM180-180h160v-160H180v160Zm440 0h160v-160H620v160Z\"/>\n",
              "  </svg>\n",
              "    </button>\n",
              "\n",
              "  <style>\n",
              "    .colab-df-container {\n",
              "      display:flex;\n",
              "      gap: 12px;\n",
              "    }\n",
              "\n",
              "    .colab-df-convert {\n",
              "      background-color: #E8F0FE;\n",
              "      border: none;\n",
              "      border-radius: 50%;\n",
              "      cursor: pointer;\n",
              "      display: none;\n",
              "      fill: #1967D2;\n",
              "      height: 32px;\n",
              "      padding: 0 0 0 0;\n",
              "      width: 32px;\n",
              "    }\n",
              "\n",
              "    .colab-df-convert:hover {\n",
              "      background-color: #E2EBFA;\n",
              "      box-shadow: 0px 1px 2px rgba(60, 64, 67, 0.3), 0px 1px 3px 1px rgba(60, 64, 67, 0.15);\n",
              "      fill: #174EA6;\n",
              "    }\n",
              "\n",
              "    .colab-df-buttons div {\n",
              "      margin-bottom: 4px;\n",
              "    }\n",
              "\n",
              "    [theme=dark] .colab-df-convert {\n",
              "      background-color: #3B4455;\n",
              "      fill: #D2E3FC;\n",
              "    }\n",
              "\n",
              "    [theme=dark] .colab-df-convert:hover {\n",
              "      background-color: #434B5C;\n",
              "      box-shadow: 0px 1px 3px 1px rgba(0, 0, 0, 0.15);\n",
              "      filter: drop-shadow(0px 1px 2px rgba(0, 0, 0, 0.3));\n",
              "      fill: #FFFFFF;\n",
              "    }\n",
              "  </style>\n",
              "\n",
              "    <script>\n",
              "      const buttonEl =\n",
              "        document.querySelector('#df-0065d46e-7c38-4d7a-b7a0-4abab1e07d0a button.colab-df-convert');\n",
              "      buttonEl.style.display =\n",
              "        google.colab.kernel.accessAllowed ? 'block' : 'none';\n",
              "\n",
              "      async function convertToInteractive(key) {\n",
              "        const element = document.querySelector('#df-0065d46e-7c38-4d7a-b7a0-4abab1e07d0a');\n",
              "        const dataTable =\n",
              "          await google.colab.kernel.invokeFunction('convertToInteractive',\n",
              "                                                    [key], {});\n",
              "        if (!dataTable) return;\n",
              "\n",
              "        const docLinkHtml = 'Like what you see? Visit the ' +\n",
              "          '<a target=\"_blank\" href=https://colab.research.google.com/notebooks/data_table.ipynb>data table notebook</a>'\n",
              "          + ' to learn more about interactive tables.';\n",
              "        element.innerHTML = '';\n",
              "        dataTable['output_type'] = 'display_data';\n",
              "        await google.colab.output.renderOutput(dataTable, element);\n",
              "        const docLink = document.createElement('div');\n",
              "        docLink.innerHTML = docLinkHtml;\n",
              "        element.appendChild(docLink);\n",
              "      }\n",
              "    </script>\n",
              "  </div>\n",
              "\n",
              "\n",
              "<div id=\"df-7b6f2587-2585-4e1e-b6d1-fdedcc90ba12\">\n",
              "  <button class=\"colab-df-quickchart\" onclick=\"quickchart('df-7b6f2587-2585-4e1e-b6d1-fdedcc90ba12')\"\n",
              "            title=\"Suggest charts\"\n",
              "            style=\"display:none;\">\n",
              "\n",
              "<svg xmlns=\"http://www.w3.org/2000/svg\" height=\"24px\"viewBox=\"0 0 24 24\"\n",
              "     width=\"24px\">\n",
              "    <g>\n",
              "        <path d=\"M19 3H5c-1.1 0-2 .9-2 2v14c0 1.1.9 2 2 2h14c1.1 0 2-.9 2-2V5c0-1.1-.9-2-2-2zM9 17H7v-7h2v7zm4 0h-2V7h2v10zm4 0h-2v-4h2v4z\"/>\n",
              "    </g>\n",
              "</svg>\n",
              "  </button>\n",
              "\n",
              "<style>\n",
              "  .colab-df-quickchart {\n",
              "      --bg-color: #E8F0FE;\n",
              "      --fill-color: #1967D2;\n",
              "      --hover-bg-color: #E2EBFA;\n",
              "      --hover-fill-color: #174EA6;\n",
              "      --disabled-fill-color: #AAA;\n",
              "      --disabled-bg-color: #DDD;\n",
              "  }\n",
              "\n",
              "  [theme=dark] .colab-df-quickchart {\n",
              "      --bg-color: #3B4455;\n",
              "      --fill-color: #D2E3FC;\n",
              "      --hover-bg-color: #434B5C;\n",
              "      --hover-fill-color: #FFFFFF;\n",
              "      --disabled-bg-color: #3B4455;\n",
              "      --disabled-fill-color: #666;\n",
              "  }\n",
              "\n",
              "  .colab-df-quickchart {\n",
              "    background-color: var(--bg-color);\n",
              "    border: none;\n",
              "    border-radius: 50%;\n",
              "    cursor: pointer;\n",
              "    display: none;\n",
              "    fill: var(--fill-color);\n",
              "    height: 32px;\n",
              "    padding: 0;\n",
              "    width: 32px;\n",
              "  }\n",
              "\n",
              "  .colab-df-quickchart:hover {\n",
              "    background-color: var(--hover-bg-color);\n",
              "    box-shadow: 0 1px 2px rgba(60, 64, 67, 0.3), 0 1px 3px 1px rgba(60, 64, 67, 0.15);\n",
              "    fill: var(--button-hover-fill-color);\n",
              "  }\n",
              "\n",
              "  .colab-df-quickchart-complete:disabled,\n",
              "  .colab-df-quickchart-complete:disabled:hover {\n",
              "    background-color: var(--disabled-bg-color);\n",
              "    fill: var(--disabled-fill-color);\n",
              "    box-shadow: none;\n",
              "  }\n",
              "\n",
              "  .colab-df-spinner {\n",
              "    border: 2px solid var(--fill-color);\n",
              "    border-color: transparent;\n",
              "    border-bottom-color: var(--fill-color);\n",
              "    animation:\n",
              "      spin 1s steps(1) infinite;\n",
              "  }\n",
              "\n",
              "  @keyframes spin {\n",
              "    0% {\n",
              "      border-color: transparent;\n",
              "      border-bottom-color: var(--fill-color);\n",
              "      border-left-color: var(--fill-color);\n",
              "    }\n",
              "    20% {\n",
              "      border-color: transparent;\n",
              "      border-left-color: var(--fill-color);\n",
              "      border-top-color: var(--fill-color);\n",
              "    }\n",
              "    30% {\n",
              "      border-color: transparent;\n",
              "      border-left-color: var(--fill-color);\n",
              "      border-top-color: var(--fill-color);\n",
              "      border-right-color: var(--fill-color);\n",
              "    }\n",
              "    40% {\n",
              "      border-color: transparent;\n",
              "      border-right-color: var(--fill-color);\n",
              "      border-top-color: var(--fill-color);\n",
              "    }\n",
              "    60% {\n",
              "      border-color: transparent;\n",
              "      border-right-color: var(--fill-color);\n",
              "    }\n",
              "    80% {\n",
              "      border-color: transparent;\n",
              "      border-right-color: var(--fill-color);\n",
              "      border-bottom-color: var(--fill-color);\n",
              "    }\n",
              "    90% {\n",
              "      border-color: transparent;\n",
              "      border-bottom-color: var(--fill-color);\n",
              "    }\n",
              "  }\n",
              "</style>\n",
              "\n",
              "  <script>\n",
              "    async function quickchart(key) {\n",
              "      const quickchartButtonEl =\n",
              "        document.querySelector('#' + key + ' button');\n",
              "      quickchartButtonEl.disabled = true;  // To prevent multiple clicks.\n",
              "      quickchartButtonEl.classList.add('colab-df-spinner');\n",
              "      try {\n",
              "        const charts = await google.colab.kernel.invokeFunction(\n",
              "            'suggestCharts', [key], {});\n",
              "      } catch (error) {\n",
              "        console.error('Error during call to suggestCharts:', error);\n",
              "      }\n",
              "      quickchartButtonEl.classList.remove('colab-df-spinner');\n",
              "      quickchartButtonEl.classList.add('colab-df-quickchart-complete');\n",
              "    }\n",
              "    (() => {\n",
              "      let quickchartButtonEl =\n",
              "        document.querySelector('#df-7b6f2587-2585-4e1e-b6d1-fdedcc90ba12 button');\n",
              "      quickchartButtonEl.style.display =\n",
              "        google.colab.kernel.accessAllowed ? 'block' : 'none';\n",
              "    })();\n",
              "  </script>\n",
              "</div>\n",
              "\n",
              "    </div>\n",
              "  </div>\n"
            ],
            "application/vnd.google.colaboratory.intrinsic+json": {
              "type": "dataframe",
              "variable_name": "df",
              "summary": "{\n  \"name\": \"df\",\n  \"rows\": 100000,\n  \"fields\": [\n    {\n      \"column\": \"gender\",\n      \"properties\": {\n        \"dtype\": \"category\",\n        \"num_unique_values\": 3,\n        \"samples\": [\n          \"Female\",\n          \"Male\",\n          \"Other\"\n        ],\n        \"semantic_type\": \"\",\n        \"description\": \"\"\n      }\n    },\n    {\n      \"column\": \"age\",\n      \"properties\": {\n        \"dtype\": \"number\",\n        \"std\": 22.516839871617023,\n        \"min\": 0.08,\n        \"max\": 80.0,\n        \"num_unique_values\": 102,\n        \"samples\": [\n          29.0,\n          39.0,\n          16.0\n        ],\n        \"semantic_type\": \"\",\n        \"description\": \"\"\n      }\n    },\n    {\n      \"column\": \"hypertension\",\n      \"properties\": {\n        \"dtype\": \"number\",\n        \"std\": 0,\n        \"min\": 0,\n        \"max\": 1,\n        \"num_unique_values\": 2,\n        \"samples\": [\n          1,\n          0\n        ],\n        \"semantic_type\": \"\",\n        \"description\": \"\"\n      }\n    },\n    {\n      \"column\": \"heart_disease\",\n      \"properties\": {\n        \"dtype\": \"number\",\n        \"std\": 0,\n        \"min\": 0,\n        \"max\": 1,\n        \"num_unique_values\": 2,\n        \"samples\": [\n          0,\n          1\n        ],\n        \"semantic_type\": \"\",\n        \"description\": \"\"\n      }\n    },\n    {\n      \"column\": \"smoking_history\",\n      \"properties\": {\n        \"dtype\": \"category\",\n        \"num_unique_values\": 6,\n        \"samples\": [\n          \"never\",\n          \"No Info\"\n        ],\n        \"semantic_type\": \"\",\n        \"description\": \"\"\n      }\n    },\n    {\n      \"column\": \"bmi\",\n      \"properties\": {\n        \"dtype\": \"number\",\n        \"std\": 6.636783416648369,\n        \"min\": 10.01,\n        \"max\": 95.69,\n        \"num_unique_values\": 4247,\n        \"samples\": [\n          53.27,\n          32.33\n        ],\n        \"semantic_type\": \"\",\n        \"description\": \"\"\n      }\n    },\n    {\n      \"column\": \"HbA1c_level\",\n      \"properties\": {\n        \"dtype\": \"number\",\n        \"std\": 1.0706720918835437,\n        \"min\": 3.5,\n        \"max\": 9.0,\n        \"num_unique_values\": 18,\n        \"samples\": [\n          6.6,\n          5.7\n        ],\n        \"semantic_type\": \"\",\n        \"description\": \"\"\n      }\n    },\n    {\n      \"column\": \"blood_glucose_level\",\n      \"properties\": {\n        \"dtype\": \"number\",\n        \"std\": 40,\n        \"min\": 80,\n        \"max\": 300,\n        \"num_unique_values\": 18,\n        \"samples\": [\n          140,\n          80\n        ],\n        \"semantic_type\": \"\",\n        \"description\": \"\"\n      }\n    },\n    {\n      \"column\": \"diabetes\",\n      \"properties\": {\n        \"dtype\": \"number\",\n        \"std\": 0,\n        \"min\": 0,\n        \"max\": 1,\n        \"num_unique_values\": 2,\n        \"samples\": [\n          1,\n          0\n        ],\n        \"semantic_type\": \"\",\n        \"description\": \"\"\n      }\n    }\n  ]\n}"
            }
          },
          "metadata": {},
          "execution_count": 11
        }
      ],
      "source": [
        "df.head()"
      ]
    },
    {
      "cell_type": "markdown",
      "id": "a5206d3f",
      "metadata": {
        "papermill": {
          "duration": 0.019599,
          "end_time": "2023-06-21T02:33:23.670387",
          "exception": false,
          "start_time": "2023-06-21T02:33:23.650788",
          "status": "completed"
        },
        "tags": [],
        "id": "a5206d3f"
      },
      "source": [
        "#  | EXPLORATORY DATA ANALYSIS\n",
        "EXPLORATORY DATA ANALYSIS\n",
        "\n",
        "## Data Quality\n",
        "\n",
        "###  Handling Duplicates"
      ]
    },
    {
      "cell_type": "code",
      "execution_count": 12,
      "id": "cfc51221",
      "metadata": {
        "execution": {
          "iopub.execute_input": "2023-06-21T02:33:23.713742Z",
          "iopub.status.busy": "2023-06-21T02:33:23.712489Z",
          "iopub.status.idle": "2023-06-21T02:33:23.772724Z",
          "shell.execute_reply": "2023-06-21T02:33:23.770910Z"
        },
        "papermill": {
          "duration": 0.08499,
          "end_time": "2023-06-21T02:33:23.775895",
          "exception": false,
          "start_time": "2023-06-21T02:33:23.690905",
          "status": "completed"
        },
        "tags": [],
        "colab": {
          "base_uri": "https://localhost:8080/"
        },
        "id": "cfc51221",
        "outputId": "1beaac9a-28a0-4e7b-d2b1-9df93849858a"
      },
      "outputs": [
        {
          "output_type": "stream",
          "name": "stdout",
          "text": [
            "number of duplicate rows:  (3854, 9)\n"
          ]
        }
      ],
      "source": [
        "# Handle duplicates\n",
        "duplicate_rows_data = df[df.duplicated()]\n",
        "print(\"number of duplicate rows: \", duplicate_rows_data.shape)"
      ]
    },
    {
      "cell_type": "code",
      "execution_count": 13,
      "id": "ea346df1",
      "metadata": {
        "execution": {
          "iopub.execute_input": "2023-06-21T02:33:23.819004Z",
          "iopub.status.busy": "2023-06-21T02:33:23.818260Z",
          "iopub.status.idle": "2023-06-21T02:33:23.864238Z",
          "shell.execute_reply": "2023-06-21T02:33:23.863154Z"
        },
        "papermill": {
          "duration": 0.071209,
          "end_time": "2023-06-21T02:33:23.867074",
          "exception": false,
          "start_time": "2023-06-21T02:33:23.795865",
          "status": "completed"
        },
        "tags": [],
        "id": "ea346df1"
      },
      "outputs": [],
      "source": [
        "df = df.drop_duplicates()"
      ]
    },
    {
      "cell_type": "markdown",
      "id": "147b5f5b",
      "metadata": {
        "papermill": {
          "duration": 0.019492,
          "end_time": "2023-06-21T02:33:23.909493",
          "exception": false,
          "start_time": "2023-06-21T02:33:23.890001",
          "status": "completed"
        },
        "tags": [],
        "id": "147b5f5b"
      },
      "source": [
        "### <b>II <span style='color:#16C2D5'>|</span> Uniqueness</b>"
      ]
    },
    {
      "cell_type": "code",
      "execution_count": 14,
      "id": "b6ba0d9a",
      "metadata": {
        "execution": {
          "iopub.execute_input": "2023-06-21T02:33:23.951337Z",
          "iopub.status.busy": "2023-06-21T02:33:23.950622Z",
          "iopub.status.idle": "2023-06-21T02:33:23.986233Z",
          "shell.execute_reply": "2023-06-21T02:33:23.984995Z"
        },
        "papermill": {
          "duration": 0.058984,
          "end_time": "2023-06-21T02:33:23.988626",
          "exception": false,
          "start_time": "2023-06-21T02:33:23.929642",
          "status": "completed"
        },
        "tags": [],
        "colab": {
          "base_uri": "https://localhost:8080/"
        },
        "id": "b6ba0d9a",
        "outputId": "5b63c1eb-b95a-40b7-a16b-0879a7fb5c51"
      },
      "outputs": [
        {
          "output_type": "stream",
          "name": "stdout",
          "text": [
            "gender: 3 distinct values\n",
            "age: 102 distinct values\n",
            "hypertension: 2 distinct values\n",
            "heart_disease: 2 distinct values\n",
            "smoking_history: 6 distinct values\n",
            "bmi: 4247 distinct values\n",
            "HbA1c_level: 18 distinct values\n",
            "blood_glucose_level: 18 distinct values\n",
            "diabetes: 2 distinct values\n"
          ]
        }
      ],
      "source": [
        "# Loop through each column and count the number of distinct values\n",
        "for column in df.columns:\n",
        "    num_distinct_values = len(df[column].unique())\n",
        "    print(f\"{column}: {num_distinct_values} distinct values\")"
      ]
    },
    {
      "cell_type": "markdown",
      "id": "016a6708",
      "metadata": {
        "papermill": {
          "duration": 0.019036,
          "end_time": "2023-06-21T02:33:24.028236",
          "exception": false,
          "start_time": "2023-06-21T02:33:24.009200",
          "status": "completed"
        },
        "tags": [],
        "id": "016a6708"
      },
      "source": [
        "### <b>III <span style='color:#16C2D5'>|</span> Missing Values</b>"
      ]
    },
    {
      "cell_type": "code",
      "execution_count": 15,
      "id": "b70840fa",
      "metadata": {
        "execution": {
          "iopub.execute_input": "2023-06-21T02:33:24.071069Z",
          "iopub.status.busy": "2023-06-21T02:33:24.070170Z",
          "iopub.status.idle": "2023-06-21T02:33:24.144903Z",
          "shell.execute_reply": "2023-06-21T02:33:24.143411Z"
        },
        "papermill": {
          "duration": 0.100899,
          "end_time": "2023-06-21T02:33:24.148840",
          "exception": false,
          "start_time": "2023-06-21T02:33:24.047941",
          "status": "completed"
        },
        "tags": [],
        "colab": {
          "base_uri": "https://localhost:8080/"
        },
        "id": "b70840fa",
        "outputId": "bbdc233e-b073-4382-bb4e-853a496c9ed6"
      },
      "outputs": [
        {
          "output_type": "stream",
          "name": "stdout",
          "text": [
            "gender                 0\n",
            "age                    0\n",
            "hypertension           0\n",
            "heart_disease          0\n",
            "smoking_history        0\n",
            "bmi                    0\n",
            "HbA1c_level            0\n",
            "blood_glucose_level    0\n",
            "diabetes               0\n",
            "dtype: int64\n"
          ]
        }
      ],
      "source": [
        "# Checking null values\n",
        "print(df.isnull().sum())"
      ]
    },
    {
      "cell_type": "code",
      "execution_count": 16,
      "id": "3bfea678",
      "metadata": {
        "execution": {
          "iopub.execute_input": "2023-06-21T02:33:24.191338Z",
          "iopub.status.busy": "2023-06-21T02:33:24.190936Z",
          "iopub.status.idle": "2023-06-21T02:33:24.221353Z",
          "shell.execute_reply": "2023-06-21T02:33:24.220075Z"
        },
        "papermill": {
          "duration": 0.055465,
          "end_time": "2023-06-21T02:33:24.224212",
          "exception": false,
          "start_time": "2023-06-21T02:33:24.168747",
          "status": "completed"
        },
        "tags": [],
        "id": "3bfea678"
      },
      "outputs": [],
      "source": [
        "# Remove Unneccessary value [0.00195%]\n",
        "df = df[df['gender'] != 'Other']"
      ]
    },
    {
      "cell_type": "markdown",
      "id": "4b8a4d78",
      "metadata": {
        "papermill": {
          "duration": 0.019683,
          "end_time": "2023-06-21T02:33:24.263795",
          "exception": false,
          "start_time": "2023-06-21T02:33:24.244112",
          "status": "completed"
        },
        "tags": [],
        "id": "4b8a4d78"
      },
      "source": [
        "### <b>IV <span style='color:#16C2D5'>|</span> Describe the Data</b>"
      ]
    },
    {
      "cell_type": "code",
      "execution_count": 17,
      "id": "e5d67e11",
      "metadata": {
        "execution": {
          "iopub.execute_input": "2023-06-21T02:33:24.305074Z",
          "iopub.status.busy": "2023-06-21T02:33:24.304621Z",
          "iopub.status.idle": "2023-06-21T02:33:24.467489Z",
          "shell.execute_reply": "2023-06-21T02:33:24.465535Z"
        },
        "papermill": {
          "duration": 0.187413,
          "end_time": "2023-06-21T02:33:24.470675",
          "exception": false,
          "start_time": "2023-06-21T02:33:24.283262",
          "status": "completed"
        },
        "tags": [],
        "colab": {
          "base_uri": "https://localhost:8080/",
          "height": 300
        },
        "id": "e5d67e11",
        "outputId": "f38b3f8a-47a4-4052-c200-a4fe3a7a5305"
      },
      "outputs": [
        {
          "output_type": "execute_result",
          "data": {
            "text/plain": [
              "<pandas.io.formats.style.Styler at 0x7d9386b91120>"
            ],
            "text/html": [
              "<style type=\"text/css\">\n",
              "</style>\n",
              "<table id=\"T_9ce5a\" class=\"dataframe\">\n",
              "  <thead>\n",
              "    <tr>\n",
              "      <th class=\"blank level0\" >&nbsp;</th>\n",
              "      <th id=\"T_9ce5a_level0_col0\" class=\"col_heading level0 col0\" >age</th>\n",
              "      <th id=\"T_9ce5a_level0_col1\" class=\"col_heading level0 col1\" >hypertension</th>\n",
              "      <th id=\"T_9ce5a_level0_col2\" class=\"col_heading level0 col2\" >heart_disease</th>\n",
              "      <th id=\"T_9ce5a_level0_col3\" class=\"col_heading level0 col3\" >bmi</th>\n",
              "      <th id=\"T_9ce5a_level0_col4\" class=\"col_heading level0 col4\" >HbA1c_level</th>\n",
              "      <th id=\"T_9ce5a_level0_col5\" class=\"col_heading level0 col5\" >blood_glucose_level</th>\n",
              "      <th id=\"T_9ce5a_level0_col6\" class=\"col_heading level0 col6\" >diabetes</th>\n",
              "    </tr>\n",
              "  </thead>\n",
              "  <tbody>\n",
              "    <tr>\n",
              "      <th id=\"T_9ce5a_level0_row0\" class=\"row_heading level0 row0\" >count</th>\n",
              "      <td id=\"T_9ce5a_row0_col0\" class=\"data row0 col0\" >96128.00</td>\n",
              "      <td id=\"T_9ce5a_row0_col1\" class=\"data row0 col1\" >96128.00</td>\n",
              "      <td id=\"T_9ce5a_row0_col2\" class=\"data row0 col2\" >96128.00</td>\n",
              "      <td id=\"T_9ce5a_row0_col3\" class=\"data row0 col3\" >96128.00</td>\n",
              "      <td id=\"T_9ce5a_row0_col4\" class=\"data row0 col4\" >96128.00</td>\n",
              "      <td id=\"T_9ce5a_row0_col5\" class=\"data row0 col5\" >96128.00</td>\n",
              "      <td id=\"T_9ce5a_row0_col6\" class=\"data row0 col6\" >96128.00</td>\n",
              "    </tr>\n",
              "    <tr>\n",
              "      <th id=\"T_9ce5a_level0_row1\" class=\"row_heading level0 row1\" >mean</th>\n",
              "      <td id=\"T_9ce5a_row1_col0\" class=\"data row1 col0\" >41.80</td>\n",
              "      <td id=\"T_9ce5a_row1_col1\" class=\"data row1 col1\" >0.08</td>\n",
              "      <td id=\"T_9ce5a_row1_col2\" class=\"data row1 col2\" >0.04</td>\n",
              "      <td id=\"T_9ce5a_row1_col3\" class=\"data row1 col3\" >27.32</td>\n",
              "      <td id=\"T_9ce5a_row1_col4\" class=\"data row1 col4\" >5.53</td>\n",
              "      <td id=\"T_9ce5a_row1_col5\" class=\"data row1 col5\" >138.22</td>\n",
              "      <td id=\"T_9ce5a_row1_col6\" class=\"data row1 col6\" >0.09</td>\n",
              "    </tr>\n",
              "    <tr>\n",
              "      <th id=\"T_9ce5a_level0_row2\" class=\"row_heading level0 row2\" >std</th>\n",
              "      <td id=\"T_9ce5a_row2_col0\" class=\"data row2 col0\" >22.46</td>\n",
              "      <td id=\"T_9ce5a_row2_col1\" class=\"data row2 col1\" >0.27</td>\n",
              "      <td id=\"T_9ce5a_row2_col2\" class=\"data row2 col2\" >0.20</td>\n",
              "      <td id=\"T_9ce5a_row2_col3\" class=\"data row2 col3\" >6.77</td>\n",
              "      <td id=\"T_9ce5a_row2_col4\" class=\"data row2 col4\" >1.07</td>\n",
              "      <td id=\"T_9ce5a_row2_col5\" class=\"data row2 col5\" >40.91</td>\n",
              "      <td id=\"T_9ce5a_row2_col6\" class=\"data row2 col6\" >0.28</td>\n",
              "    </tr>\n",
              "    <tr>\n",
              "      <th id=\"T_9ce5a_level0_row3\" class=\"row_heading level0 row3\" >min</th>\n",
              "      <td id=\"T_9ce5a_row3_col0\" class=\"data row3 col0\" >0.08</td>\n",
              "      <td id=\"T_9ce5a_row3_col1\" class=\"data row3 col1\" >0.00</td>\n",
              "      <td id=\"T_9ce5a_row3_col2\" class=\"data row3 col2\" >0.00</td>\n",
              "      <td id=\"T_9ce5a_row3_col3\" class=\"data row3 col3\" >10.01</td>\n",
              "      <td id=\"T_9ce5a_row3_col4\" class=\"data row3 col4\" >3.50</td>\n",
              "      <td id=\"T_9ce5a_row3_col5\" class=\"data row3 col5\" >80.00</td>\n",
              "      <td id=\"T_9ce5a_row3_col6\" class=\"data row3 col6\" >0.00</td>\n",
              "    </tr>\n",
              "    <tr>\n",
              "      <th id=\"T_9ce5a_level0_row4\" class=\"row_heading level0 row4\" >25%</th>\n",
              "      <td id=\"T_9ce5a_row4_col0\" class=\"data row4 col0\" >24.00</td>\n",
              "      <td id=\"T_9ce5a_row4_col1\" class=\"data row4 col1\" >0.00</td>\n",
              "      <td id=\"T_9ce5a_row4_col2\" class=\"data row4 col2\" >0.00</td>\n",
              "      <td id=\"T_9ce5a_row4_col3\" class=\"data row4 col3\" >23.40</td>\n",
              "      <td id=\"T_9ce5a_row4_col4\" class=\"data row4 col4\" >4.80</td>\n",
              "      <td id=\"T_9ce5a_row4_col5\" class=\"data row4 col5\" >100.00</td>\n",
              "      <td id=\"T_9ce5a_row4_col6\" class=\"data row4 col6\" >0.00</td>\n",
              "    </tr>\n",
              "    <tr>\n",
              "      <th id=\"T_9ce5a_level0_row5\" class=\"row_heading level0 row5\" >50%</th>\n",
              "      <td id=\"T_9ce5a_row5_col0\" class=\"data row5 col0\" >43.00</td>\n",
              "      <td id=\"T_9ce5a_row5_col1\" class=\"data row5 col1\" >0.00</td>\n",
              "      <td id=\"T_9ce5a_row5_col2\" class=\"data row5 col2\" >0.00</td>\n",
              "      <td id=\"T_9ce5a_row5_col3\" class=\"data row5 col3\" >27.32</td>\n",
              "      <td id=\"T_9ce5a_row5_col4\" class=\"data row5 col4\" >5.80</td>\n",
              "      <td id=\"T_9ce5a_row5_col5\" class=\"data row5 col5\" >140.00</td>\n",
              "      <td id=\"T_9ce5a_row5_col6\" class=\"data row5 col6\" >0.00</td>\n",
              "    </tr>\n",
              "    <tr>\n",
              "      <th id=\"T_9ce5a_level0_row6\" class=\"row_heading level0 row6\" >75%</th>\n",
              "      <td id=\"T_9ce5a_row6_col0\" class=\"data row6 col0\" >59.00</td>\n",
              "      <td id=\"T_9ce5a_row6_col1\" class=\"data row6 col1\" >0.00</td>\n",
              "      <td id=\"T_9ce5a_row6_col2\" class=\"data row6 col2\" >0.00</td>\n",
              "      <td id=\"T_9ce5a_row6_col3\" class=\"data row6 col3\" >29.86</td>\n",
              "      <td id=\"T_9ce5a_row6_col4\" class=\"data row6 col4\" >6.20</td>\n",
              "      <td id=\"T_9ce5a_row6_col5\" class=\"data row6 col5\" >159.00</td>\n",
              "      <td id=\"T_9ce5a_row6_col6\" class=\"data row6 col6\" >0.00</td>\n",
              "    </tr>\n",
              "    <tr>\n",
              "      <th id=\"T_9ce5a_level0_row7\" class=\"row_heading level0 row7\" >max</th>\n",
              "      <td id=\"T_9ce5a_row7_col0\" class=\"data row7 col0\" >80.00</td>\n",
              "      <td id=\"T_9ce5a_row7_col1\" class=\"data row7 col1\" >1.00</td>\n",
              "      <td id=\"T_9ce5a_row7_col2\" class=\"data row7 col2\" >1.00</td>\n",
              "      <td id=\"T_9ce5a_row7_col3\" class=\"data row7 col3\" >95.69</td>\n",
              "      <td id=\"T_9ce5a_row7_col4\" class=\"data row7 col4\" >9.00</td>\n",
              "      <td id=\"T_9ce5a_row7_col5\" class=\"data row7 col5\" >300.00</td>\n",
              "      <td id=\"T_9ce5a_row7_col6\" class=\"data row7 col6\" >1.00</td>\n",
              "    </tr>\n",
              "  </tbody>\n",
              "</table>\n"
            ]
          },
          "metadata": {},
          "execution_count": 17
        }
      ],
      "source": [
        "df.describe().style.format(\"{:.2f}\")"
      ]
    },
    {
      "cell_type": "markdown",
      "id": "6ba24475",
      "metadata": {
        "papermill": {
          "duration": 0.021227,
          "end_time": "2023-06-21T02:33:24.513831",
          "exception": false,
          "start_time": "2023-06-21T02:33:24.492604",
          "status": "completed"
        },
        "tags": [],
        "id": "6ba24475"
      },
      "source": [
        "##2. Univariate Analysis\n",
        "\n",
        "### Histogram for age"
      ]
    },
    {
      "cell_type": "code",
      "execution_count": 18,
      "id": "d23404ef",
      "metadata": {
        "execution": {
          "iopub.execute_input": "2023-06-21T02:33:24.560227Z",
          "iopub.status.busy": "2023-06-21T02:33:24.559827Z",
          "iopub.status.idle": "2023-06-21T02:33:24.924924Z",
          "shell.execute_reply": "2023-06-21T02:33:24.923449Z"
        },
        "papermill": {
          "duration": 0.390901,
          "end_time": "2023-06-21T02:33:24.927811",
          "exception": false,
          "start_time": "2023-06-21T02:33:24.536910",
          "status": "completed"
        },
        "tags": [],
        "colab": {
          "base_uri": "https://localhost:8080/",
          "height": 472
        },
        "id": "d23404ef",
        "outputId": "ad43250b-a727-47c9-9cfd-002ff891b7a7"
      },
      "outputs": [
        {
          "output_type": "display_data",
          "data": {
            "text/plain": [
              "<Figure size 640x480 with 1 Axes>"
            ],
            "image/png": "[encoded data removed]"
          },
          "metadata": {}
        }
      ],
      "source": [
        "# Histogram for age\n",
        "plt.hist(df['age'], bins=30, edgecolor='black')\n",
        "plt.title('Age Distribution')\n",
        "plt.xlabel('Age')\n",
        "plt.ylabel('Count')\n",
        "plt.show()"
      ]
    },
    {
      "cell_type": "markdown",
      "id": "25ece24b",
      "metadata": {
        "papermill": {
          "duration": 0.020607,
          "end_time": "2023-06-21T02:33:24.969168",
          "exception": false,
          "start_time": "2023-06-21T02:33:24.948561",
          "status": "completed"
        },
        "tags": [],
        "id": "25ece24b"
      },
      "source": [
        "### <b>II <span style='color:#16C2D5'>|</span> Bar plot for gender</b>"
      ]
    },
    {
      "cell_type": "code",
      "execution_count": 19,
      "id": "9befce20",
      "metadata": {
        "execution": {
          "iopub.execute_input": "2023-06-21T02:33:25.015239Z",
          "iopub.status.busy": "2023-06-21T02:33:25.014834Z",
          "iopub.status.idle": "2023-06-21T02:33:25.352223Z",
          "shell.execute_reply": "2023-06-21T02:33:25.350898Z"
        },
        "papermill": {
          "duration": 0.364322,
          "end_time": "2023-06-21T02:33:25.355253",
          "exception": false,
          "start_time": "2023-06-21T02:33:24.990931",
          "status": "completed"
        },
        "tags": [],
        "colab": {
          "base_uri": "https://localhost:8080/",
          "height": 472
        },
        "id": "9befce20",
        "outputId": "d743352d-f7bc-4562-b590-0bd24507152c"
      },
      "outputs": [
        {
          "output_type": "display_data",
          "data": {
            "text/plain": [
              "<Figure size 640x480 with 1 Axes>"
            ],
            "image/png": "[encoded data removed]"
          },
          "metadata": {}
        }
      ],
      "source": [
        "# Bar plot for gender\n",
        "sns.countplot(x='gender', data=df)\n",
        "plt.title('Gender Distribution')\n",
        "plt.show()"
      ]
    },
    {
      "cell_type": "markdown",
      "id": "3c52d39c",
      "metadata": {
        "papermill": {
          "duration": 0.048861,
          "end_time": "2023-06-21T02:37:10.124735",
          "exception": false,
          "start_time": "2023-06-21T02:37:10.075874",
          "status": "completed"
        },
        "tags": [],
        "id": "3c52d39c"
      },
      "source": [
        "#  CORRELATION\n",
        " CORRELATION\n",
        "\n",
        "###  Data preparation"
      ]
    },
    {
      "cell_type": "code",
      "execution_count": 20,
      "id": "719a82f7",
      "metadata": {
        "execution": {
          "iopub.execute_input": "2023-06-21T02:37:10.225593Z",
          "iopub.status.busy": "2023-06-21T02:37:10.225149Z",
          "iopub.status.idle": "2023-06-21T02:37:10.287883Z",
          "shell.execute_reply": "2023-06-21T02:37:10.286528Z"
        },
        "papermill": {
          "duration": 0.116941,
          "end_time": "2023-06-21T02:37:10.291437",
          "exception": false,
          "start_time": "2023-06-21T02:37:10.174496",
          "status": "completed"
        },
        "tags": [],
        "colab": {
          "base_uri": "https://localhost:8080/"
        },
        "id": "719a82f7",
        "outputId": "50fb0cb7-901a-4474-d779-f0632e4b8040"
      },
      "outputs": [
        {
          "output_type": "stream",
          "name": "stdout",
          "text": [
            "smoking_history\n",
            "non-smoker     67276\n",
            "past_smoker    19655\n",
            "current         9197\n",
            "Name: count, dtype: int64\n"
          ]
        }
      ],
      "source": [
        "def recategorize_smoking(smoking_status):\n",
        "    if smoking_status in ['never', 'No Info']:\n",
        "        return 'non-smoker'\n",
        "    elif smoking_status == 'current':\n",
        "        return 'current'\n",
        "    elif smoking_status in ['ever', 'former', 'not current']:\n",
        "        return 'past_smoker'\n",
        "\n",
        "# Apply the function to the 'smoking_history' column\n",
        "df['smoking_history'] = df['smoking_history'].apply(recategorize_smoking)\n",
        "\n",
        "# Check the new value counts\n",
        "print(df['smoking_history'].value_counts())"
      ]
    },
    {
      "cell_type": "code",
      "execution_count": 21,
      "id": "8390f490",
      "metadata": {
        "colab": {
          "base_uri": "https://localhost:8080/"
        },
        "id": "8390f490",
        "outputId": "ec895d3e-0b4a-40a2-da3e-41a96eba8527"
      },
      "outputs": [
        {
          "output_type": "execute_result",
          "data": {
            "text/plain": [
              "0    non-smoker\n",
              "1    non-smoker\n",
              "2    non-smoker\n",
              "3       current\n",
              "4       current\n",
              "Name: smoking_history, dtype: object"
            ]
          },
          "metadata": {},
          "execution_count": 21
        }
      ],
      "source": [
        "df['smoking_history'].head()"
      ]
    },
    {
      "cell_type": "code",
      "execution_count": 22,
      "id": "4a1259f8",
      "metadata": {
        "execution": {
          "iopub.execute_input": "2023-06-21T02:37:10.406515Z",
          "iopub.status.busy": "2023-06-21T02:37:10.405335Z",
          "iopub.status.idle": "2023-06-21T02:37:10.419888Z",
          "shell.execute_reply": "2023-06-21T02:37:10.417943Z"
        },
        "papermill": {
          "duration": 0.071127,
          "end_time": "2023-06-21T02:37:10.422999",
          "exception": false,
          "start_time": "2023-06-21T02:37:10.351872",
          "status": "completed"
        },
        "tags": [],
        "id": "4a1259f8"
      },
      "outputs": [],
      "source": [
        "data = df.copy()"
      ]
    },
    {
      "cell_type": "markdown",
      "id": "dbe2b759",
      "metadata": {
        "papermill": {
          "duration": 0.060237,
          "end_time": "2023-06-21T02:37:10.532260",
          "exception": false,
          "start_time": "2023-06-21T02:37:10.472023",
          "status": "completed"
        },
        "tags": [],
        "id": "dbe2b759"
      },
      "source": [
        "### <b>II <span style='color:#16C2D5'>|</span> Encoding</b>"
      ]
    },
    {
      "cell_type": "code",
      "execution_count": 23,
      "id": "19532fa9",
      "metadata": {
        "execution": {
          "iopub.execute_input": "2023-06-21T02:37:10.648263Z",
          "iopub.status.busy": "2023-06-21T02:37:10.647450Z",
          "iopub.status.idle": "2023-06-21T02:37:10.697790Z",
          "shell.execute_reply": "2023-06-21T02:37:10.696629Z"
        },
        "papermill": {
          "duration": 0.10562,
          "end_time": "2023-06-21T02:37:10.700565",
          "exception": false,
          "start_time": "2023-06-21T02:37:10.594945",
          "status": "completed"
        },
        "tags": [],
        "id": "19532fa9"
      },
      "outputs": [],
      "source": [
        "def perform_one_hot_encoding(df, column_name):\n",
        "    # Perform one-hot encoding on the specified column\n",
        "    dummies = pd.get_dummies(df[column_name], prefix=column_name)\n",
        "\n",
        "    # Drop the original column and append the new dummy columns to the dataframe\n",
        "    df = pd.concat([df.drop(column_name, axis=1), dummies], axis=1)\n",
        "\n",
        "    return df\n",
        "\n",
        "# Perform one-hot encoding on the gender variable\n",
        "data = perform_one_hot_encoding(data, 'gender')\n",
        "\n",
        "# Perform one-hot encoding on the smoking history variable\n",
        "data = perform_one_hot_encoding(data, 'smoking_history')"
      ]
    },
    {
      "cell_type": "markdown",
      "id": "6e62fc5b",
      "metadata": {
        "papermill": {
          "duration": 0.04956,
          "end_time": "2023-06-21T02:37:10.799319",
          "exception": false,
          "start_time": "2023-06-21T02:37:10.749759",
          "status": "completed"
        },
        "tags": [],
        "id": "6e62fc5b"
      },
      "source": [
        "### <b>III <span style='color:#16C2D5'>|</span> Correlation Matrix</b>"
      ]
    },
    {
      "cell_type": "code",
      "execution_count": 24,
      "id": "bf72bba5",
      "metadata": {
        "execution": {
          "iopub.execute_input": "2023-06-21T02:37:10.906149Z",
          "iopub.status.busy": "2023-06-21T02:37:10.905730Z",
          "iopub.status.idle": "2023-06-21T02:37:12.347064Z",
          "shell.execute_reply": "2023-06-21T02:37:12.345756Z"
        },
        "papermill": {
          "duration": 1.497096,
          "end_time": "2023-06-21T02:37:12.349802",
          "exception": false,
          "start_time": "2023-06-21T02:37:10.852706",
          "status": "completed"
        },
        "tags": [],
        "colab": {
          "base_uri": "https://localhost:8080/",
          "height": 1000
        },
        "id": "bf72bba5",
        "outputId": "1fcf7593-f43e-4a0e-e68e-e0dc2cb92c6a"
      },
      "outputs": [
        {
          "output_type": "display_data",
          "data": {
            "text/plain": [
              "<Figure size 1500x1000 with 2 Axes>"
            ],
            "image/png": "[encoded data removed]"
          },
          "metadata": {}
        },
        {
          "output_type": "display_data",
          "data": {
            "text/plain": [
              "<Figure size 640x480 with 2 Axes>"
            ],
            "image/png": "[encoded data removed]"
          },
          "metadata": {}
        }
      ],
      "source": [
        "# Compute the correlation matrix\n",
        "correlation_matrix = data.corr()\n",
        "#Graph I.\n",
        "plt.figure(figsize=(15, 10))\n",
        "sns.heatmap(correlation_matrix, annot=True, cmap='coolwarm', linewidths=0.5, fmt='.2f')\n",
        "plt.title(\"Correlation Matrix Heatmap\")\n",
        "plt.show()\n",
        "\n",
        "\n",
        "#Graph II\n",
        "# Create a heatmap of the correlations with the target column\n",
        "corr = data.corr()\n",
        "target_corr = corr['diabetes'].drop('diabetes')\n",
        "\n",
        "# Sort correlation values in descending order\n",
        "target_corr_sorted = target_corr.sort_values(ascending=False)\n",
        "\n",
        "sns.set(font_scale=0.8)\n",
        "sns.set_style(\"white\")\n",
        "sns.set_palette(\"PuBuGn_d\")\n",
        "sns.heatmap(target_corr_sorted.to_frame(), cmap=\"coolwarm\", annot=True, fmt='.2f')\n",
        "plt.title('Correlation with Diabetes')\n",
        "plt.show()"
      ]
    },
    {
      "cell_type": "code",
      "execution_count": 24,
      "id": "72f8ac49",
      "metadata": {
        "id": "72f8ac49"
      },
      "outputs": [],
      "source": []
    },
    {
      "cell_type": "markdown",
      "id": "64deaf9b",
      "metadata": {
        "papermill": {
          "duration": 0.053042,
          "end_time": "2023-06-21T02:37:12.457592",
          "exception": false,
          "start_time": "2023-06-21T02:37:12.404550",
          "status": "completed"
        },
        "tags": [],
        "id": "64deaf9b"
      },
      "source": [
        "#  PREDICTIVE ANALYSIS\n",
        " PREDICTIVE ANALYSIS\n",
        "\n",
        "## Class Imbalance\n",
        "\n",
        "From the EDA ,the dataset is imbalanced (with 9% positive cases for diabetes and 91% negative cases), it's essential to balance the data to ensure that the model doesn't get biased towards the majority class. For this purpose, the Synthetic Minority Over-sampling Technique (SMOTE) is used, which generates synthetic samples for the minority class."
      ]
    },
    {
      "cell_type": "code",
      "execution_count": 25,
      "id": "94673561",
      "metadata": {
        "execution": {
          "iopub.execute_input": "2023-06-21T02:37:12.573411Z",
          "iopub.status.busy": "2023-06-21T02:37:12.572620Z",
          "iopub.status.idle": "2023-06-21T02:37:12.825120Z",
          "shell.execute_reply": "2023-06-21T02:37:12.824102Z"
        },
        "jupyter": {
          "source_hidden": true
        },
        "papermill": {
          "duration": 0.316231,
          "end_time": "2023-06-21T02:37:12.827829",
          "exception": false,
          "start_time": "2023-06-21T02:37:12.511598",
          "status": "completed"
        },
        "tags": [],
        "colab": {
          "base_uri": "https://localhost:8080/",
          "height": 469
        },
        "id": "94673561",
        "outputId": "20a338d0-08c1-402a-fc2b-acc4f28a60be"
      },
      "outputs": [
        {
          "output_type": "display_data",
          "data": {
            "text/plain": [
              "<Figure size 640x480 with 1 Axes>"
            ],
            "image/png": "[encoded data removed]"
          },
          "metadata": {}
        }
      ],
      "source": [
        "# Count plot for the 'diabetes' variable\n",
        "sns.countplot(x='diabetes', data=df)\n",
        "plt.title('Diabetes Distribution')\n",
        "plt.show()"
      ]
    },
    {
      "cell_type": "code",
      "execution_count": 26,
      "id": "d7efa901",
      "metadata": {
        "execution": {
          "iopub.execute_input": "2023-06-21T02:37:12.945144Z",
          "iopub.status.busy": "2023-06-21T02:37:12.944302Z",
          "iopub.status.idle": "2023-06-21T02:37:12.949631Z",
          "shell.execute_reply": "2023-06-21T02:37:12.948665Z"
        },
        "papermill": {
          "duration": 0.065269,
          "end_time": "2023-06-21T02:37:12.952182",
          "exception": false,
          "start_time": "2023-06-21T02:37:12.886913",
          "status": "completed"
        },
        "tags": [],
        "id": "d7efa901"
      },
      "outputs": [],
      "source": [
        "# Define resampling\n",
        "over = SMOTE(sampling_strategy=0.1)\n",
        "under = RandomUnderSampler(sampling_strategy=0.5)"
      ]
    },
    {
      "cell_type": "markdown",
      "id": "e54add0e",
      "metadata": {
        "papermill": {
          "duration": 0.054362,
          "end_time": "2023-06-21T02:37:13.061410",
          "exception": false,
          "start_time": "2023-06-21T02:37:13.007048",
          "status": "completed"
        },
        "tags": [],
        "id": "e54add0e"
      },
      "source": [
        "## 2.Preprocessing : Scaler\n",
        "\n",
        "Preprocessing is a crucial step before training the model. In this case, numerical features are standardized (mean removed and scaled to unit variance), and categorical features are one-hot encoded.Standardization is not required for all models but is generally a good practice. One-hot encoding is necessary for categorical variables to be correctly understood by the machine learning model.\n",
        "\n",
        "The StandardScaler in sklearn is based on the assumption that the data, Y, follows a distribution that might not necessarily be Gaussian (normal), but we still transform it in a way that its distribution will have a mean value 0 and standard deviation of 1.</p>\n",
        "\n",
        "<p>In other words, given a feature vector <em>x</em>, it modifies the values as follows:</p>\n",
        "\n",
        "<p class=\"formulaDsp\">\n",
        "\\[ Y_i = \\frac{x_i - \\mu(\\vec{x})}{\\sigma(\\vec{x})} \\]\n",
        "</p>\n",
        "\n",
        "**where:**\n",
        "<ul>\n",
        "<li>\\( x_i \\) is the i-th element of the original feature vector \\( \\vec{x} \\),</li>\n",
        "<li>\\( \\mu(\\vec{x}) \\) is the mean of the feature vector, and</li>\n",
        "<li>\\( \\sigma(\\vec{x}) \\) is the standard deviation of the feature vector.</li>\n",
        "</ul>\n",
        "\n",
        "<p>The transformed data \\( Y \\) (each \\( Y_i \\)) will have properties such that \\( mean(Y) = 0 \\) and \\( std(Y) = 1 \\).</p>\n",
        "\n",
        "> This transformation is also known as Z-score normalization.\n"
      ]
    },
    {
      "cell_type": "code",
      "execution_count": 27,
      "id": "e2368586",
      "metadata": {
        "execution": {
          "iopub.execute_input": "2023-06-21T02:37:13.176969Z",
          "iopub.status.busy": "2023-06-21T02:37:13.176138Z",
          "iopub.status.idle": "2023-06-21T02:37:13.188004Z",
          "shell.execute_reply": "2023-06-21T02:37:13.186422Z"
        },
        "papermill": {
          "duration": 0.071869,
          "end_time": "2023-06-21T02:37:13.191084",
          "exception": false,
          "start_time": "2023-06-21T02:37:13.119215",
          "status": "completed"
        },
        "tags": [],
        "id": "e2368586"
      },
      "outputs": [],
      "source": [
        "# Define preprocessor\n",
        "preprocessor = ColumnTransformer(\n",
        "    transformers=[\n",
        "        ('num', StandardScaler(), ['age', 'bmi', 'HbA1c_level', 'blood_glucose_level','hypertension','heart_disease']),\n",
        "        ('cat', OneHotEncoder(), ['gender','smoking_history'])\n",
        "    ])\n",
        "\n",
        "# Split data into features and target variable\n",
        "X = df.drop('diabetes', axis=1)\n",
        "y = df['diabetes']"
      ]
    },
    {
      "cell_type": "code",
      "execution_count": 28,
      "id": "bbe1aa09",
      "metadata": {
        "execution": {
          "iopub.execute_input": "2023-06-21T02:37:13.301987Z",
          "iopub.status.busy": "2023-06-21T02:37:13.301194Z",
          "iopub.status.idle": "2023-06-21T02:37:13.307447Z",
          "shell.execute_reply": "2023-06-21T02:37:13.306102Z"
        },
        "papermill": {
          "duration": 0.064764,
          "end_time": "2023-06-21T02:37:13.310235",
          "exception": false,
          "start_time": "2023-06-21T02:37:13.245471",
          "status": "completed"
        },
        "tags": [],
        "id": "bbe1aa09"
      },
      "outputs": [],
      "source": [
        "# Create a pipeline that preprocesses the data, resamples data, and then trains a classifier\n",
        "clf = imbPipeline(steps=[('preprocessor', preprocessor),\n",
        "                      ('over', over),\n",
        "                      ('under', under),\n",
        "                      ('classifier', RandomForestClassifier())])"
      ]
    },
    {
      "cell_type": "markdown",
      "id": "4fd71ad7",
      "metadata": {
        "papermill": {
          "duration": 0.053332,
          "end_time": "2023-06-21T02:37:13.418974",
          "exception": false,
          "start_time": "2023-06-21T02:37:13.365642",
          "status": "completed"
        },
        "tags": [],
        "id": "4fd71ad7"
      },
      "source": [
        "## Model Building and Hyperparameter Tuning\n",
        "\n",
        "A pipeline is constructed which first applies the preprocessing steps and then trains a model on the data. We use a **<mark style=\"background-color:#16C2D5;color:white;border-radius:5px;opacity:1.0\">RandomForestClassifier</mark>**, which is a popular and powerful algorithm for classification tasks. The model's hyperparameters are tuned using **<mark style=\"background-color:#16C2D5;color:white;border-radius:5px;opacity:1.0\">GridSearchCV</mark>** , which performs an exhaustive search over the specified parameter values for the estimator. The best performing model is selected based on cross-validation."
      ]
    },
    {
      "cell_type": "code",
      "execution_count": 29,
      "id": "89adf1e1",
      "metadata": {
        "execution": {
          "iopub.execute_input": "2023-06-21T02:37:13.532493Z",
          "iopub.status.busy": "2023-06-21T02:37:13.531760Z",
          "iopub.status.idle": "2023-06-21T02:37:13.538621Z",
          "shell.execute_reply": "2023-06-21T02:37:13.536352Z"
        },
        "papermill": {
          "duration": 0.067973,
          "end_time": "2023-06-21T02:37:13.542116",
          "exception": false,
          "start_time": "2023-06-21T02:37:13.474143",
          "status": "completed"
        },
        "tags": [],
        "id": "89adf1e1"
      },
      "outputs": [],
      "source": [
        "# Define the hyperparameters and the values we want to test\n",
        "param_grid = {\n",
        "    #'classifier__n_estimators': [50, 100, 200],\n",
        "    #'classifier__max_depth': [None, 10, 20],\n",
        "    'classifier__min_samples_split': [2, 5, 10],\n",
        "    'classifier__min_samples_leaf': [1, 2, 4]\n",
        "}"
      ]
    },
    {
      "cell_type": "code",
      "execution_count": 30,
      "id": "60b04454",
      "metadata": {
        "execution": {
          "iopub.execute_input": "2023-06-21T02:37:13.655716Z",
          "iopub.status.busy": "2023-06-21T02:37:13.655311Z",
          "iopub.status.idle": "2023-06-21T02:52:30.970113Z",
          "shell.execute_reply": "2023-06-21T02:52:30.968379Z"
        },
        "papermill": {
          "duration": 917.430436,
          "end_time": "2023-06-21T02:52:31.029382",
          "exception": false,
          "start_time": "2023-06-21T02:37:13.598946",
          "status": "completed"
        },
        "tags": [],
        "colab": {
          "base_uri": "https://localhost:8080/"
        },
        "id": "60b04454",
        "outputId": "9805185d-6c57-4cd8-85d2-394b001bb082"
      },
      "outputs": [
        {
          "output_type": "stream",
          "name": "stdout",
          "text": [
            "Best Parameters:  {'classifier__min_samples_leaf': 4, 'classifier__min_samples_split': 5}\n"
          ]
        }
      ],
      "source": [
        "# Create Grid Search object\n",
        "grid_search = GridSearchCV(clf, param_grid, cv=5)\n",
        "\n",
        "# Split data into train and test sets\n",
        "X_train, X_test, y_train, y_test = train_test_split(X, y, test_size=0.2, random_state=42)\n",
        "\n",
        "# Train the model\n",
        "grid_search.fit(X_train, y_train)\n",
        "\n",
        "# Print the best parameters\n",
        "print(\"Best Parameters: \", grid_search.best_params_)"
      ]
    },
    {
      "cell_type": "markdown",
      "id": "1a0a50c1",
      "metadata": {
        "papermill": {
          "duration": 0.056921,
          "end_time": "2023-06-21T02:52:31.141245",
          "exception": false,
          "start_time": "2023-06-21T02:52:31.084324",
          "status": "completed"
        },
        "tags": [],
        "id": "1a0a50c1"
      },
      "source": [
        "### Intepret the results\n",
        "\n",
        "The result shows the best parameters for our Random Forest model that were found during the hyperparameter tuning process:\n",
        "\n",
        "1. **max_depth of 10:** This indicates that the maximum depth of the trees in the forest is 10 levels. Constraining the depth of the tree helps in reducing overfitting. It appears from this result that a medium-complexity tree works best for our data. Too much complexity (a deeper tree) may capture noise, and too little (a shallower tree) may not capture the underlying structure of the data.\n",
        "\n",
        "2. **min_samples_leaf of 2:** This means that each leaf (the end node of a decision tree, where predictions are made) must contain at least two samples. This parameter, like max_depth, is a way to control overfitting. By requiring at least two samples to make a prediction, the model prevents fitting to outliers or noise in the training data.\n",
        "\n",
        "3. **min_samples_split of 2:** This tells us that a node must contain at least two samples in order to be split (to create two child nodes). Similar to the min_samples_leaf parameter, this can help control overfitting.\n",
        "\n",
        "4. **n_estimators of 50:** This is the number of decision trees in the forest. The Random Forest algorithm works by averaging the predictions of many decision trees to make a final prediction, which helps reduce overfitting and variance. In this case, it seems that having 50 trees in the forest gives us the best performance.\n",
        "\n",
        "<br>\n",
        "\n",
        "\n",
        "      These parameters are a result of the Hyperparameter tuning process , and they give us insight into the structure of the data and the complexity of the model that best captures that structure. The moderately constrained tree depth and the requirements for the number of samples at each node suggest a model that is complex enough to capture the important patterns in the data, but not so complex that it overfits to noise or outliers.This balance is crucial in creating a model that will generalize well to new data.\n",
        "\n",
        "\n",
        "\n",
        "    \n",
        "    "
      ]
    },
    {
      "cell_type": "code",
      "execution_count": 31,
      "id": "a353d146",
      "metadata": {
        "execution": {
          "iopub.execute_input": "2023-06-21T02:52:32.283971Z",
          "iopub.status.busy": "2023-06-21T02:52:32.283408Z",
          "iopub.status.idle": "2023-06-21T02:52:32.918767Z",
          "shell.execute_reply": "2023-06-21T02:52:32.917504Z"
        },
        "papermill": {
          "duration": 0.695661,
          "end_time": "2023-06-21T02:52:32.921500",
          "exception": false,
          "start_time": "2023-06-21T02:52:32.225839",
          "status": "completed"
        },
        "tags": [],
        "colab": {
          "base_uri": "https://localhost:8080/"
        },
        "id": "a353d146",
        "outputId": "d5445a43-7197-4495-88bb-15e008e639a7"
      },
      "outputs": [
        {
          "output_type": "stream",
          "name": "stdout",
          "text": [
            "Model Accuracy:  0.9411213981067305\n",
            "              precision    recall  f1-score   support\n",
            "\n",
            "           0       0.98      0.95      0.97     17525\n",
            "           1       0.63      0.82      0.71      1701\n",
            "\n",
            "    accuracy                           0.94     19226\n",
            "   macro avg       0.81      0.88      0.84     19226\n",
            "weighted avg       0.95      0.94      0.94     19226\n",
            "\n"
          ]
        }
      ],
      "source": [
        "# Predict on the test set using the best model\n",
        "y_pred = grid_search.predict(X_test)\n",
        "\n",
        "# Evaluate the model\n",
        "print(\"Model Accuracy: \", accuracy_score(y_test, y_pred))\n",
        "print(classification_report(y_test, y_pred))\n",
        "\n"
      ]
    },
    {
      "cell_type": "code",
      "execution_count": 32,
      "id": "9ade2ac7",
      "metadata": {
        "colab": {
          "base_uri": "https://localhost:8080/",
          "height": 112
        },
        "id": "9ade2ac7",
        "outputId": "fed40ef1-39d6-49f3-d0eb-e4cb93d119ee"
      },
      "outputs": [
        {
          "output_type": "execute_result",
          "data": {
            "text/plain": [
              "       gender   age  hypertension  heart_disease smoking_history   bmi  \\\n",
              "2547   Female  5.00             0              0      non-smoker 15.14   \n",
              "47513  Female 26.00             0              0      non-smoker 18.63   \n",
              "\n",
              "       HbA1c_level  blood_glucose_level  \n",
              "2547          4.50                   90  \n",
              "47513         4.00                   85  "
            ],
            "text/html": [
              "\n",
              "  <div id=\"df-6d3e2da3-56c1-4b5e-987e-9daa016b5ba9\" class=\"colab-df-container\">\n",
              "    <div>\n",
              "<style scoped>\n",
              "    .dataframe tbody tr th:only-of-type {\n",
              "        vertical-align: middle;\n",
              "    }\n",
              "\n",
              "    .dataframe tbody tr th {\n",
              "        vertical-align: top;\n",
              "    }\n",
              "\n",
              "    .dataframe thead th {\n",
              "        text-align: right;\n",
              "    }\n",
              "</style>\n",
              "<table border=\"1\" class=\"dataframe\">\n",
              "  <thead>\n",
              "    <tr style=\"text-align: right;\">\n",
              "      <th></th>\n",
              "      <th>gender</th>\n",
              "      <th>age</th>\n",
              "      <th>hypertension</th>\n",
              "      <th>heart_disease</th>\n",
              "      <th>smoking_history</th>\n",
              "      <th>bmi</th>\n",
              "      <th>HbA1c_level</th>\n",
              "      <th>blood_glucose_level</th>\n",
              "    </tr>\n",
              "  </thead>\n",
              "  <tbody>\n",
              "    <tr>\n",
              "      <th>2547</th>\n",
              "      <td>Female</td>\n",
              "      <td>5.00</td>\n",
              "      <td>0</td>\n",
              "      <td>0</td>\n",
              "      <td>non-smoker</td>\n",
              "      <td>15.14</td>\n",
              "      <td>4.50</td>\n",
              "      <td>90</td>\n",
              "    </tr>\n",
              "    <tr>\n",
              "      <th>47513</th>\n",
              "      <td>Female</td>\n",
              "      <td>26.00</td>\n",
              "      <td>0</td>\n",
              "      <td>0</td>\n",
              "      <td>non-smoker</td>\n",
              "      <td>18.63</td>\n",
              "      <td>4.00</td>\n",
              "      <td>85</td>\n",
              "    </tr>\n",
              "  </tbody>\n",
              "</table>\n",
              "</div>\n",
              "    <div class=\"colab-df-buttons\">\n",
              "\n",
              "  <div class=\"colab-df-container\">\n",
              "    <button class=\"colab-df-convert\" onclick=\"convertToInteractive('df-6d3e2da3-56c1-4b5e-987e-9daa016b5ba9')\"\n",
              "            title=\"Convert this dataframe to an interactive table.\"\n",
              "            style=\"display:none;\">\n",
              "\n",
              "  <svg xmlns=\"http://www.w3.org/2000/svg\" height=\"24px\" viewBox=\"0 -960 960 960\">\n",
              "    <path d=\"M120-120v-720h720v720H120Zm60-500h600v-160H180v160Zm220 220h160v-160H400v160Zm0 220h160v-160H400v160ZM180-400h160v-160H180v160Zm440 0h160v-160H620v160ZM180-180h160v-160H180v160Zm440 0h160v-160H620v160Z\"/>\n",
              "  </svg>\n",
              "    </button>\n",
              "\n",
              "  <style>\n",
              "    .colab-df-container {\n",
              "      display:flex;\n",
              "      gap: 12px;\n",
              "    }\n",
              "\n",
              "    .colab-df-convert {\n",
              "      background-color: #E8F0FE;\n",
              "      border: none;\n",
              "      border-radius: 50%;\n",
              "      cursor: pointer;\n",
              "      display: none;\n",
              "      fill: #1967D2;\n",
              "      height: 32px;\n",
              "      padding: 0 0 0 0;\n",
              "      width: 32px;\n",
              "    }\n",
              "\n",
              "    .colab-df-convert:hover {\n",
              "      background-color: #E2EBFA;\n",
              "      box-shadow: 0px 1px 2px rgba(60, 64, 67, 0.3), 0px 1px 3px 1px rgba(60, 64, 67, 0.15);\n",
              "      fill: #174EA6;\n",
              "    }\n",
              "\n",
              "    .colab-df-buttons div {\n",
              "      margin-bottom: 4px;\n",
              "    }\n",
              "\n",
              "    [theme=dark] .colab-df-convert {\n",
              "      background-color: #3B4455;\n",
              "      fill: #D2E3FC;\n",
              "    }\n",
              "\n",
              "    [theme=dark] .colab-df-convert:hover {\n",
              "      background-color: #434B5C;\n",
              "      box-shadow: 0px 1px 3px 1px rgba(0, 0, 0, 0.15);\n",
              "      filter: drop-shadow(0px 1px 2px rgba(0, 0, 0, 0.3));\n",
              "      fill: #FFFFFF;\n",
              "    }\n",
              "  </style>\n",
              "\n",
              "    <script>\n",
              "      const buttonEl =\n",
              "        document.querySelector('#df-6d3e2da3-56c1-4b5e-987e-9daa016b5ba9 button.colab-df-convert');\n",
              "      buttonEl.style.display =\n",
              "        google.colab.kernel.accessAllowed ? 'block' : 'none';\n",
              "\n",
              "      async function convertToInteractive(key) {\n",
              "        const element = document.querySelector('#df-6d3e2da3-56c1-4b5e-987e-9daa016b5ba9');\n",
              "        const dataTable =\n",
              "          await google.colab.kernel.invokeFunction('convertToInteractive',\n",
              "                                                    [key], {});\n",
              "        if (!dataTable) return;\n",
              "\n",
              "        const docLinkHtml = 'Like what you see? Visit the ' +\n",
              "          '<a target=\"_blank\" href=https://colab.research.google.com/notebooks/data_table.ipynb>data table notebook</a>'\n",
              "          + ' to learn more about interactive tables.';\n",
              "        element.innerHTML = '';\n",
              "        dataTable['output_type'] = 'display_data';\n",
              "        await google.colab.output.renderOutput(dataTable, element);\n",
              "        const docLink = document.createElement('div');\n",
              "        docLink.innerHTML = docLinkHtml;\n",
              "        element.appendChild(docLink);\n",
              "      }\n",
              "    </script>\n",
              "  </div>\n",
              "\n",
              "\n",
              "<div id=\"df-e922496d-7742-4725-8417-2cb16006bbc4\">\n",
              "  <button class=\"colab-df-quickchart\" onclick=\"quickchart('df-e922496d-7742-4725-8417-2cb16006bbc4')\"\n",
              "            title=\"Suggest charts\"\n",
              "            style=\"display:none;\">\n",
              "\n",
              "<svg xmlns=\"http://www.w3.org/2000/svg\" height=\"24px\"viewBox=\"0 0 24 24\"\n",
              "     width=\"24px\">\n",
              "    <g>\n",
              "        <path d=\"M19 3H5c-1.1 0-2 .9-2 2v14c0 1.1.9 2 2 2h14c1.1 0 2-.9 2-2V5c0-1.1-.9-2-2-2zM9 17H7v-7h2v7zm4 0h-2V7h2v10zm4 0h-2v-4h2v4z\"/>\n",
              "    </g>\n",
              "</svg>\n",
              "  </button>\n",
              "\n",
              "<style>\n",
              "  .colab-df-quickchart {\n",
              "      --bg-color: #E8F0FE;\n",
              "      --fill-color: #1967D2;\n",
              "      --hover-bg-color: #E2EBFA;\n",
              "      --hover-fill-color: #174EA6;\n",
              "      --disabled-fill-color: #AAA;\n",
              "      --disabled-bg-color: #DDD;\n",
              "  }\n",
              "\n",
              "  [theme=dark] .colab-df-quickchart {\n",
              "      --bg-color: #3B4455;\n",
              "      --fill-color: #D2E3FC;\n",
              "      --hover-bg-color: #434B5C;\n",
              "      --hover-fill-color: #FFFFFF;\n",
              "      --disabled-bg-color: #3B4455;\n",
              "      --disabled-fill-color: #666;\n",
              "  }\n",
              "\n",
              "  .colab-df-quickchart {\n",
              "    background-color: var(--bg-color);\n",
              "    border: none;\n",
              "    border-radius: 50%;\n",
              "    cursor: pointer;\n",
              "    display: none;\n",
              "    fill: var(--fill-color);\n",
              "    height: 32px;\n",
              "    padding: 0;\n",
              "    width: 32px;\n",
              "  }\n",
              "\n",
              "  .colab-df-quickchart:hover {\n",
              "    background-color: var(--hover-bg-color);\n",
              "    box-shadow: 0 1px 2px rgba(60, 64, 67, 0.3), 0 1px 3px 1px rgba(60, 64, 67, 0.15);\n",
              "    fill: var(--button-hover-fill-color);\n",
              "  }\n",
              "\n",
              "  .colab-df-quickchart-complete:disabled,\n",
              "  .colab-df-quickchart-complete:disabled:hover {\n",
              "    background-color: var(--disabled-bg-color);\n",
              "    fill: var(--disabled-fill-color);\n",
              "    box-shadow: none;\n",
              "  }\n",
              "\n",
              "  .colab-df-spinner {\n",
              "    border: 2px solid var(--fill-color);\n",
              "    border-color: transparent;\n",
              "    border-bottom-color: var(--fill-color);\n",
              "    animation:\n",
              "      spin 1s steps(1) infinite;\n",
              "  }\n",
              "\n",
              "  @keyframes spin {\n",
              "    0% {\n",
              "      border-color: transparent;\n",
              "      border-bottom-color: var(--fill-color);\n",
              "      border-left-color: var(--fill-color);\n",
              "    }\n",
              "    20% {\n",
              "      border-color: transparent;\n",
              "      border-left-color: var(--fill-color);\n",
              "      border-top-color: var(--fill-color);\n",
              "    }\n",
              "    30% {\n",
              "      border-color: transparent;\n",
              "      border-left-color: var(--fill-color);\n",
              "      border-top-color: var(--fill-color);\n",
              "      border-right-color: var(--fill-color);\n",
              "    }\n",
              "    40% {\n",
              "      border-color: transparent;\n",
              "      border-right-color: var(--fill-color);\n",
              "      border-top-color: var(--fill-color);\n",
              "    }\n",
              "    60% {\n",
              "      border-color: transparent;\n",
              "      border-right-color: var(--fill-color);\n",
              "    }\n",
              "    80% {\n",
              "      border-color: transparent;\n",
              "      border-right-color: var(--fill-color);\n",
              "      border-bottom-color: var(--fill-color);\n",
              "    }\n",
              "    90% {\n",
              "      border-color: transparent;\n",
              "      border-bottom-color: var(--fill-color);\n",
              "    }\n",
              "  }\n",
              "</style>\n",
              "\n",
              "  <script>\n",
              "    async function quickchart(key) {\n",
              "      const quickchartButtonEl =\n",
              "        document.querySelector('#' + key + ' button');\n",
              "      quickchartButtonEl.disabled = true;  // To prevent multiple clicks.\n",
              "      quickchartButtonEl.classList.add('colab-df-spinner');\n",
              "      try {\n",
              "        const charts = await google.colab.kernel.invokeFunction(\n",
              "            'suggestCharts', [key], {});\n",
              "      } catch (error) {\n",
              "        console.error('Error during call to suggestCharts:', error);\n",
              "      }\n",
              "      quickchartButtonEl.classList.remove('colab-df-spinner');\n",
              "      quickchartButtonEl.classList.add('colab-df-quickchart-complete');\n",
              "    }\n",
              "    (() => {\n",
              "      let quickchartButtonEl =\n",
              "        document.querySelector('#df-e922496d-7742-4725-8417-2cb16006bbc4 button');\n",
              "      quickchartButtonEl.style.display =\n",
              "        google.colab.kernel.accessAllowed ? 'block' : 'none';\n",
              "    })();\n",
              "  </script>\n",
              "</div>\n",
              "\n",
              "    </div>\n",
              "  </div>\n"
            ],
            "application/vnd.google.colaboratory.intrinsic+json": {
              "type": "dataframe",
              "variable_name": "X_test",
              "summary": "{\n  \"name\": \"X_test\",\n  \"rows\": 19226,\n  \"fields\": [\n    {\n      \"column\": \"gender\",\n      \"properties\": {\n        \"dtype\": \"category\",\n        \"num_unique_values\": 2,\n        \"samples\": [\n          \"Male\",\n          \"Female\"\n        ],\n        \"semantic_type\": \"\",\n        \"description\": \"\"\n      }\n    },\n    {\n      \"column\": \"age\",\n      \"properties\": {\n        \"dtype\": \"number\",\n        \"std\": 22.34124239393155,\n        \"min\": 0.08,\n        \"max\": 80.0,\n        \"num_unique_values\": 102,\n        \"samples\": [\n          35.0,\n          0.8\n        ],\n        \"semantic_type\": \"\",\n        \"description\": \"\"\n      }\n    },\n    {\n      \"column\": \"hypertension\",\n      \"properties\": {\n        \"dtype\": \"number\",\n        \"std\": 0,\n        \"min\": 0,\n        \"max\": 1,\n        \"num_unique_values\": 2,\n        \"samples\": [\n          1,\n          0\n        ],\n        \"semantic_type\": \"\",\n        \"description\": \"\"\n      }\n    },\n    {\n      \"column\": \"heart_disease\",\n      \"properties\": {\n        \"dtype\": \"number\",\n        \"std\": 0,\n        \"min\": 0,\n        \"max\": 1,\n        \"num_unique_values\": 2,\n        \"samples\": [\n          1,\n          0\n        ],\n        \"semantic_type\": \"\",\n        \"description\": \"\"\n      }\n    },\n    {\n      \"column\": \"smoking_history\",\n      \"properties\": {\n        \"dtype\": \"category\",\n        \"num_unique_values\": 3,\n        \"samples\": [\n          \"non-smoker\",\n          \"past_smoker\"\n        ],\n        \"semantic_type\": \"\",\n        \"description\": \"\"\n      }\n    },\n    {\n      \"column\": \"bmi\",\n      \"properties\": {\n        \"dtype\": \"number\",\n        \"std\": 6.793319221227071,\n        \"min\": 10.01,\n        \"max\": 95.22,\n        \"num_unique_values\": 3179,\n        \"samples\": [\n          19.15,\n          32.83\n        ],\n        \"semantic_type\": \"\",\n        \"description\": \"\"\n      }\n    },\n    {\n      \"column\": \"HbA1c_level\",\n      \"properties\": {\n        \"dtype\": \"number\",\n        \"std\": 1.0705385579905948,\n        \"min\": 3.5,\n        \"max\": 9.0,\n        \"num_unique_values\": 18,\n        \"samples\": [\n          4.5,\n          4.0\n        ],\n        \"semantic_type\": \"\",\n        \"description\": \"\"\n      }\n    },\n    {\n      \"column\": \"blood_glucose_level\",\n      \"properties\": {\n        \"dtype\": \"number\",\n        \"std\": 40,\n        \"min\": 80,\n        \"max\": 300,\n        \"num_unique_values\": 18,\n        \"samples\": [\n          90,\n          85\n        ],\n        \"semantic_type\": \"\",\n        \"description\": \"\"\n      }\n    }\n  ]\n}"
            }
          },
          "metadata": {},
          "execution_count": 32
        }
      ],
      "source": [
        "X_test.head(2)"
      ]
    },
    {
      "cell_type": "code",
      "execution_count": 40,
      "id": "62153cfc",
      "metadata": {
        "colab": {
          "base_uri": "https://localhost:8080/"
        },
        "id": "62153cfc",
        "outputId": "5260176c-457d-4eb5-e1ef-2d8e88e481a1"
      },
      "outputs": [
        {
          "output_type": "execute_result",
          "data": {
            "text/plain": [
              "array([1])"
            ]
          },
          "metadata": {},
          "execution_count": 40
        }
      ],
      "source": [
        "# Prepare custom data\n",
        "custom_data = [\n",
        "    [\"Female\", 35.0, 1, 0, \"current\", 28.2, 7.2, 130],\n",
        "]\n",
        "\n",
        "# Convert to pandas DataFrame\n",
        "custom_df = pd.DataFrame(custom_data, columns=['gender', 'age', 'hypertension', 'heart_disease', 'smoking_history', 'bmi', 'HbA1c_level', 'blood_glucose_level'])\n",
        "\n",
        "grid_search.predict(custom_df)\n"
      ]
    },
    {
      "cell_type": "code",
      "execution_count": 38,
      "id": "fd18d911",
      "metadata": {
        "colab": {
          "base_uri": "https://localhost:8080/"
        },
        "id": "fd18d911",
        "outputId": "98010f59-9feb-45db-fbdc-3d211ad58222"
      },
      "outputs": [
        {
          "output_type": "stream",
          "name": "stdout",
          "text": [
            "\u001b[?25l     \u001b[90m━━━━━━━━━━━━━━━━━━━━━━━━━━━━━━━━━━━━━━━━\u001b[0m \u001b[32m0.0/164.2 kB\u001b[0m \u001b[31m?\u001b[0m eta \u001b[36m-:--:--\u001b[0m\r\u001b[2K     \u001b[91m━━━━━━━━━━━━━━━━━━━━━━━━━━━━━\u001b[0m\u001b[91m╸\u001b[0m\u001b[90m━━━━━━━━━━\u001b[0m \u001b[32m122.9/164.2 kB\u001b[0m \u001b[31m3.7 MB/s\u001b[0m eta \u001b[36m0:00:01\u001b[0m\r\u001b[2K     \u001b[90m━━━━━━━━━━━━━━━━━━━━━━━━━━━━━━━━━━━━━━━━\u001b[0m \u001b[32m164.2/164.2 kB\u001b[0m \u001b[31m3.3 MB/s\u001b[0m eta \u001b[36m0:00:00\u001b[0m\n",
            "\u001b[?25h\u001b[?25l     \u001b[90m━━━━━━━━━━━━━━━━━━━━━━━━━━━━━━━━━━━━━━━━\u001b[0m \u001b[32m0.0/718.3 kB\u001b[0m \u001b[31m?\u001b[0m eta \u001b[36m-:--:--\u001b[0m\r\u001b[2K     \u001b[91m━━━━━━━━━━━━━━━━━━━━━━━━━━━━━━━━━━━━━━━\u001b[0m\u001b[91m╸\u001b[0m \u001b[32m716.8/718.3 kB\u001b[0m \u001b[31m29.4 MB/s\u001b[0m eta \u001b[36m0:00:01\u001b[0m\r\u001b[2K     \u001b[90m━━━━━━━━━━━━━━━━━━━━━━━━━━━━━━━━━━━━━━━━\u001b[0m \u001b[32m718.3/718.3 kB\u001b[0m \u001b[31m18.9 MB/s\u001b[0m eta \u001b[36m0:00:00\u001b[0m\n",
            "\u001b[?25h"
          ]
        }
      ],
      "source": [
        "!pip install -q -U google-generativeai\n",
        "\n",
        "# Import the Python SDK\n",
        "import google.generativeai as genai\n",
        "# Used to securely store your API key\n",
        "from google.colab import userdata\n",
        "\n",
        "GOOGLE_API_KEY=userdata.get('GOOGLE_API_KEY')\n",
        "genai.configure(api_key=GOOGLE_API_KEY)"
      ]
    },
    {
      "cell_type": "code",
      "source": [
        "model = genai.GenerativeModel('gemini-pro')\n",
        "\n",
        "import pandas as pd\n",
        "\n",
        "# Define the custom data\n",
        "custom_data = [\n",
        "    [\"Male\", 45.0, 0, 0, \"non-smoker\", 25.6, 6.5, 110],\n",
        "    [\"Female\", 35.0, 1, 0, \"current\", 28.2, 7.2, 130],\n",
        "    [\"Male\",78.0,0,0,\"non-smoker\",27.32,6.6,126]\n",
        "]\n",
        "\n",
        "# Define the column names\n",
        "columns = ['gender', 'age', 'hypertension', 'heart_disease', 'smoking_history', 'bmi', 'HbA1c_level', 'blood_glucose_level']\n",
        "\n",
        "# Function to generate suggestions based on prediction output\n",
        "def generate_suggestion(index, data, prediction):\n",
        "    input_text = \", \".join([f\"{col}: {val}\" for col, val in zip(columns, data)])\n",
        "    if prediction == 0:\n",
        "        return f\"Patient {index}: You are not diabetic but still keep a healthy lifestyle to prevent future diagnosis.\"\n",
        "    else:\n",
        "        input_string = f\"Patient {index}: Give me a suggestion for a patient with diabetes with data as follows: {input_text}\"\n",
        "        response = model.generate_content(input_string)\n",
        "        return f\"Patient {index}: {response.text}\"\n",
        "\n",
        "# Iterate through each patient data\n",
        "for index, data in enumerate(custom_data, start=1):\n",
        "    # Convert the data to pandas DataFrame\n",
        "    custom_df = pd.DataFrame([data], columns=columns)\n",
        "\n",
        "    # Predict using the grid search model\n",
        "    prediction = grid_search.predict(custom_df)[0]\n",
        "\n",
        "    # Generate the suggestion\n",
        "    suggestion = generate_suggestion(index, data, prediction)\n",
        "    print(suggestion)"
      ],
      "metadata": {
        "colab": {
          "base_uri": "https://localhost:8080/",
          "height": 841
        },
        "id": "RUyDdrhrk06i",
        "outputId": "20b5cdfe-b58e-44e2-c52c-6d8dbbc8f9a0"
      },
      "id": "RUyDdrhrk06i",
      "execution_count": 44,
      "outputs": [
        {
          "output_type": "stream",
          "name": "stdout",
          "text": [
            "Patient 1: You are not diabetic but still keep a healthy lifestyle to prevent future diagnosis.\n",
            "Patient 2: **Medication:**\n",
            "\n",
            "* **Metformin:** 500 mg twice daily to improve insulin sensitivity and lower blood glucose levels.\n",
            "\n",
            "**Lifestyle Modifications:**\n",
            "\n",
            "* **Weight loss:** Aim for a BMI of 25 or less. Encourage a calorie-controlled diet with a focus on fruits, vegetables, whole grains, and lean protein.\n",
            "* **Regular exercise:** Engage in at least 150 minutes of moderate-intensity exercise or 75 minutes of vigorous-intensity exercise weekly to improve insulin sensitivity.\n",
            "* **Smoking cessation:** Quitting smoking will reduce inflammation and improve cardiovascular health.\n",
            "* **Diabetes self-management education:** Provide resources to educate the patient about diabetes, blood glucose monitoring, medication adherence, and healthy lifestyle choices.\n",
            "\n",
            "**Monitoring:**\n",
            "\n",
            "* **Monitor blood glucose levels:** Check blood glucose levels regularly as per doctor's instructions.\n",
            "* **HbA1c monitoring:** Retest HbA1c levels every 3-6 months to assess glycemic control.\n",
            "* **Regular checkups:** Schedule regular appointments with a healthcare provider to monitor progress and adjust treatment as needed.\n",
            "\n",
            "**Additional Considerations:**\n",
            "\n",
            "* **Hypertension management:** Address the patient's hypertension with appropriate medications and lifestyle modifications.\n",
            "* **Cardiovascular risk assessment:** Evaluate the patient's risk for cardiovascular disease and provide preventive interventions as necessary.\n",
            "* **Mental health support:** Diabetes management can be stressful. Consider offering resources for mental health support if needed.\n",
            "Patient 3: **Patient 3**\n",
            "\n",
            "**Lifestyle Recommendations:**\n",
            "\n",
            "* **Maintain a healthy weight:** Aim for a BMI between 18.5 and 24.9. Consider a referral to a registered dietitian for personalized nutrition guidance.\n",
            "* **Engage in regular physical activity:** Aim for at least 150 minutes of moderate-intensity exercise or 75 minutes of vigorous-intensity exercise per week.\n",
            "* **Quit smoking (if applicable):** Smoking cessation is essential for improving cardiovascular health and reducing complications related to diabetes.\n",
            "* **Follow a balanced diet:** Focus on consuming fruits, vegetables, whole grains, and lean protein. Limit processed foods, sugary drinks, and unhealthy fats.\n",
            "\n",
            "**Medication Considerations:**\n",
            "\n",
            "* **Consider metformin:** Metformin is a first-line medication for type 2 diabetes. It helps improve blood sugar control by increasing insulin sensitivity.\n",
            "* **Monitor blood sugar levels regularly:** Use a blood glucose meter to track blood sugar levels as directed by your healthcare provider.\n",
            "* **Consider an ACE inhibitor or ARB:** These medications can help lower blood pressure, which is essential for managing cardiovascular risk in patients with diabetes.\n",
            "\n",
            "**Other Recommendations:**\n",
            "\n",
            "* **Obtain an annual eye exam:** Diabetes can damage blood vessels in the eyes, leading to vision problems. Regular eye exams are crucial for early detection and treatment of eye complications.\n",
            "* **Get a foot exam at least once per year:** Diabetes can also damage blood vessels and nerves in the feet, leading to foot problems. Regular foot exams can help identify and prevent complications.\n",
            "* **Take care of your teeth:** Diabetes can increase the risk of gum disease and tooth decay. Practice good oral hygiene and see your dentist regularly for check-ups and cleanings.\n",
            "* **Manage stress:** Stress can affect blood sugar levels. Find healthy ways to manage stress, such as exercise, meditation, or spending time in nature.\n",
            "* **Attend diabetes education classes:** Learn more about diabetes management, including medication, nutrition, exercise, and lifestyle changes.\n"
          ]
        }
      ]
    }
  ],
  "metadata": {
    "kernelspec": {
      "display_name": "Python 3",
      "language": "python",
      "name": "python3"
    },
    "language_info": {
      "codemirror_mode": {
        "name": "ipython",
        "version": 3
      },
      "file_extension": ".py",
      "mimetype": "text/x-python",
      "name": "python",
      "nbconvert_exporter": "python",
      "pygments_lexer": "ipython3",
      "version": "3.12.2"
    },
    "papermill": {
      "default_parameters": {},
      "duration": 1171.271714,
      "end_time": "2023-06-21T02:52:36.437449",
      "environment_variables": {},
      "exception": null,
      "input_path": "__notebook__.ipynb",
      "output_path": "__notebook__.ipynb",
      "parameters": {},
      "start_time": "2023-06-21T02:33:05.165735",
      "version": "2.4.0"
    },
    "colab": {
      "provenance": []
    }
  },
  "nbformat": 4,
  "nbformat_minor": 5
}